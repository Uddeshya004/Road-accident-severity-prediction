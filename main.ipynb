{
 "cells": [
  {
   "cell_type": "code",
   "execution_count": 1,
   "id": "2998be76",
   "metadata": {},
   "outputs": [],
   "source": [
    "# importing necessary libraries\n",
    "\n",
    "import numpy as np\n",
    "import seaborn as sns\n",
    "import pandas as pd\n",
    "from sklearn.metrics import confusion_matrix\n",
    "from sklearn.model_selection import train_test_split\n",
    "from sklearn.tree import DecisionTreeClassifier\n",
    "from sklearn.metrics import accuracy_score\n",
    "from sklearn.metrics import classification_report\n",
    "from sklearn.tree import plot_tree\n",
    "from sklearn import metrics\n",
    "\n",
    "df = pd.read_csv('./US_Accidents_Dec21_updated.csv', nrows= 50000) # taken only 50000 out of 2.8 million rows \n",
    "                                                                    # to save processing time"
   ]
  },
  {
   "cell_type": "code",
   "execution_count": 2,
   "id": "68ab0fbc",
   "metadata": {},
   "outputs": [
    {
     "data": {
      "text/plain": [
       "(50000, 47)"
      ]
     },
     "execution_count": 2,
     "metadata": {},
     "output_type": "execute_result"
    }
   ],
   "source": [
    "df.shape"
   ]
  },
  {
   "cell_type": "code",
   "execution_count": 3,
   "id": "32877323",
   "metadata": {},
   "outputs": [
    {
     "data": {
      "text/html": [
       "<div>\n",
       "<style scoped>\n",
       "    .dataframe tbody tr th:only-of-type {\n",
       "        vertical-align: middle;\n",
       "    }\n",
       "\n",
       "    .dataframe tbody tr th {\n",
       "        vertical-align: top;\n",
       "    }\n",
       "\n",
       "    .dataframe thead th {\n",
       "        text-align: right;\n",
       "    }\n",
       "</style>\n",
       "<table border=\"1\" class=\"dataframe\">\n",
       "  <thead>\n",
       "    <tr style=\"text-align: right;\">\n",
       "      <th></th>\n",
       "      <th>ID</th>\n",
       "      <th>Severity</th>\n",
       "      <th>Start_Time</th>\n",
       "      <th>End_Time</th>\n",
       "      <th>Start_Lat</th>\n",
       "      <th>Start_Lng</th>\n",
       "      <th>End_Lat</th>\n",
       "      <th>End_Lng</th>\n",
       "      <th>Distance(mi)</th>\n",
       "      <th>Description</th>\n",
       "      <th>...</th>\n",
       "      <th>Roundabout</th>\n",
       "      <th>Station</th>\n",
       "      <th>Stop</th>\n",
       "      <th>Traffic_Calming</th>\n",
       "      <th>Traffic_Signal</th>\n",
       "      <th>Turning_Loop</th>\n",
       "      <th>Sunrise_Sunset</th>\n",
       "      <th>Civil_Twilight</th>\n",
       "      <th>Nautical_Twilight</th>\n",
       "      <th>Astronomical_Twilight</th>\n",
       "    </tr>\n",
       "  </thead>\n",
       "  <tbody>\n",
       "    <tr>\n",
       "      <th>0</th>\n",
       "      <td>A-1</td>\n",
       "      <td>3</td>\n",
       "      <td>2016-02-08 00:37:08</td>\n",
       "      <td>2016-02-08 06:37:08</td>\n",
       "      <td>40.108910</td>\n",
       "      <td>-83.092860</td>\n",
       "      <td>40.112060</td>\n",
       "      <td>-83.031870</td>\n",
       "      <td>3.230</td>\n",
       "      <td>Between Sawmill Rd/Exit 20 and OH-315/Olentang...</td>\n",
       "      <td>...</td>\n",
       "      <td>False</td>\n",
       "      <td>False</td>\n",
       "      <td>False</td>\n",
       "      <td>False</td>\n",
       "      <td>False</td>\n",
       "      <td>False</td>\n",
       "      <td>Night</td>\n",
       "      <td>Night</td>\n",
       "      <td>Night</td>\n",
       "      <td>Night</td>\n",
       "    </tr>\n",
       "    <tr>\n",
       "      <th>1</th>\n",
       "      <td>A-2</td>\n",
       "      <td>2</td>\n",
       "      <td>2016-02-08 05:56:20</td>\n",
       "      <td>2016-02-08 11:56:20</td>\n",
       "      <td>39.865420</td>\n",
       "      <td>-84.062800</td>\n",
       "      <td>39.865010</td>\n",
       "      <td>-84.048730</td>\n",
       "      <td>0.747</td>\n",
       "      <td>At OH-4/OH-235/Exit 41 - Accident.</td>\n",
       "      <td>...</td>\n",
       "      <td>False</td>\n",
       "      <td>False</td>\n",
       "      <td>False</td>\n",
       "      <td>False</td>\n",
       "      <td>False</td>\n",
       "      <td>False</td>\n",
       "      <td>Night</td>\n",
       "      <td>Night</td>\n",
       "      <td>Night</td>\n",
       "      <td>Night</td>\n",
       "    </tr>\n",
       "    <tr>\n",
       "      <th>2</th>\n",
       "      <td>A-3</td>\n",
       "      <td>2</td>\n",
       "      <td>2016-02-08 06:15:39</td>\n",
       "      <td>2016-02-08 12:15:39</td>\n",
       "      <td>39.102660</td>\n",
       "      <td>-84.524680</td>\n",
       "      <td>39.102090</td>\n",
       "      <td>-84.523960</td>\n",
       "      <td>0.055</td>\n",
       "      <td>At I-71/US-50/Exit 1 - Accident.</td>\n",
       "      <td>...</td>\n",
       "      <td>False</td>\n",
       "      <td>False</td>\n",
       "      <td>False</td>\n",
       "      <td>False</td>\n",
       "      <td>False</td>\n",
       "      <td>False</td>\n",
       "      <td>Night</td>\n",
       "      <td>Night</td>\n",
       "      <td>Night</td>\n",
       "      <td>Day</td>\n",
       "    </tr>\n",
       "    <tr>\n",
       "      <th>3</th>\n",
       "      <td>A-4</td>\n",
       "      <td>2</td>\n",
       "      <td>2016-02-08 06:51:45</td>\n",
       "      <td>2016-02-08 12:51:45</td>\n",
       "      <td>41.062130</td>\n",
       "      <td>-81.537840</td>\n",
       "      <td>41.062170</td>\n",
       "      <td>-81.535470</td>\n",
       "      <td>0.123</td>\n",
       "      <td>At Dart Ave/Exit 21 - Accident.</td>\n",
       "      <td>...</td>\n",
       "      <td>False</td>\n",
       "      <td>False</td>\n",
       "      <td>False</td>\n",
       "      <td>False</td>\n",
       "      <td>False</td>\n",
       "      <td>False</td>\n",
       "      <td>Night</td>\n",
       "      <td>Night</td>\n",
       "      <td>Day</td>\n",
       "      <td>Day</td>\n",
       "    </tr>\n",
       "    <tr>\n",
       "      <th>4</th>\n",
       "      <td>A-5</td>\n",
       "      <td>3</td>\n",
       "      <td>2016-02-08 07:53:43</td>\n",
       "      <td>2016-02-08 13:53:43</td>\n",
       "      <td>39.172393</td>\n",
       "      <td>-84.492792</td>\n",
       "      <td>39.170476</td>\n",
       "      <td>-84.501798</td>\n",
       "      <td>0.500</td>\n",
       "      <td>At Mitchell Ave/Exit 6 - Accident.</td>\n",
       "      <td>...</td>\n",
       "      <td>False</td>\n",
       "      <td>False</td>\n",
       "      <td>False</td>\n",
       "      <td>False</td>\n",
       "      <td>False</td>\n",
       "      <td>False</td>\n",
       "      <td>Day</td>\n",
       "      <td>Day</td>\n",
       "      <td>Day</td>\n",
       "      <td>Day</td>\n",
       "    </tr>\n",
       "  </tbody>\n",
       "</table>\n",
       "<p>5 rows × 47 columns</p>\n",
       "</div>"
      ],
      "text/plain": [
       "    ID  Severity           Start_Time             End_Time  Start_Lat  \\\n",
       "0  A-1         3  2016-02-08 00:37:08  2016-02-08 06:37:08  40.108910   \n",
       "1  A-2         2  2016-02-08 05:56:20  2016-02-08 11:56:20  39.865420   \n",
       "2  A-3         2  2016-02-08 06:15:39  2016-02-08 12:15:39  39.102660   \n",
       "3  A-4         2  2016-02-08 06:51:45  2016-02-08 12:51:45  41.062130   \n",
       "4  A-5         3  2016-02-08 07:53:43  2016-02-08 13:53:43  39.172393   \n",
       "\n",
       "   Start_Lng    End_Lat    End_Lng  Distance(mi)  \\\n",
       "0 -83.092860  40.112060 -83.031870         3.230   \n",
       "1 -84.062800  39.865010 -84.048730         0.747   \n",
       "2 -84.524680  39.102090 -84.523960         0.055   \n",
       "3 -81.537840  41.062170 -81.535470         0.123   \n",
       "4 -84.492792  39.170476 -84.501798         0.500   \n",
       "\n",
       "                                         Description  ...  Roundabout Station  \\\n",
       "0  Between Sawmill Rd/Exit 20 and OH-315/Olentang...  ...       False   False   \n",
       "1                 At OH-4/OH-235/Exit 41 - Accident.  ...       False   False   \n",
       "2                   At I-71/US-50/Exit 1 - Accident.  ...       False   False   \n",
       "3                    At Dart Ave/Exit 21 - Accident.  ...       False   False   \n",
       "4                 At Mitchell Ave/Exit 6 - Accident.  ...       False   False   \n",
       "\n",
       "    Stop Traffic_Calming Traffic_Signal Turning_Loop Sunrise_Sunset  \\\n",
       "0  False           False          False        False          Night   \n",
       "1  False           False          False        False          Night   \n",
       "2  False           False          False        False          Night   \n",
       "3  False           False          False        False          Night   \n",
       "4  False           False          False        False            Day   \n",
       "\n",
       "  Civil_Twilight Nautical_Twilight Astronomical_Twilight  \n",
       "0          Night             Night                 Night  \n",
       "1          Night             Night                 Night  \n",
       "2          Night             Night                   Day  \n",
       "3          Night               Day                   Day  \n",
       "4            Day               Day                   Day  \n",
       "\n",
       "[5 rows x 47 columns]"
      ]
     },
     "execution_count": 3,
     "metadata": {},
     "output_type": "execute_result"
    }
   ],
   "source": [
    "df.head()"
   ]
  },
  {
   "cell_type": "code",
   "execution_count": 4,
   "id": "f3cc6c9b",
   "metadata": {},
   "outputs": [
    {
     "data": {
      "text/plain": [
       "Index(['ID', 'Severity', 'Start_Time', 'End_Time', 'Start_Lat', 'Start_Lng',\n",
       "       'End_Lat', 'End_Lng', 'Distance(mi)', 'Description', 'Number', 'Street',\n",
       "       'Side', 'City', 'County', 'State', 'Zipcode', 'Country', 'Timezone',\n",
       "       'Airport_Code', 'Weather_Timestamp', 'Temperature(F)', 'Wind_Chill(F)',\n",
       "       'Humidity(%)', 'Pressure(in)', 'Visibility(mi)', 'Wind_Direction',\n",
       "       'Wind_Speed(mph)', 'Precipitation(in)', 'Weather_Condition', 'Amenity',\n",
       "       'Bump', 'Crossing', 'Give_Way', 'Junction', 'No_Exit', 'Railway',\n",
       "       'Roundabout', 'Station', 'Stop', 'Traffic_Calming', 'Traffic_Signal',\n",
       "       'Turning_Loop', 'Sunrise_Sunset', 'Civil_Twilight', 'Nautical_Twilight',\n",
       "       'Astronomical_Twilight'],\n",
       "      dtype='object')"
      ]
     },
     "execution_count": 4,
     "metadata": {},
     "output_type": "execute_result"
    }
   ],
   "source": [
    "df.columns"
   ]
  },
  {
   "cell_type": "code",
   "execution_count": 5,
   "id": "1565b7ab",
   "metadata": {},
   "outputs": [
    {
     "name": "stdout",
     "output_type": "stream",
     "text": [
      "Datatype of each column of df- \n",
      "ID                        object\n",
      "Severity                   int64\n",
      "Start_Time                object\n",
      "End_Time                  object\n",
      "Start_Lat                float64\n",
      "Start_Lng                float64\n",
      "End_Lat                  float64\n",
      "End_Lng                  float64\n",
      "Distance(mi)             float64\n",
      "Description               object\n",
      "Number                   float64\n",
      "Street                    object\n",
      "Side                      object\n",
      "City                      object\n",
      "County                    object\n",
      "State                     object\n",
      "Zipcode                   object\n",
      "Country                   object\n",
      "Timezone                  object\n",
      "Airport_Code              object\n",
      "Weather_Timestamp         object\n",
      "Temperature(F)           float64\n",
      "Wind_Chill(F)            float64\n",
      "Humidity(%)              float64\n",
      "Pressure(in)             float64\n",
      "Visibility(mi)           float64\n",
      "Wind_Direction            object\n",
      "Wind_Speed(mph)          float64\n",
      "Precipitation(in)        float64\n",
      "Weather_Condition         object\n",
      "Amenity                     bool\n",
      "Bump                        bool\n",
      "Crossing                    bool\n",
      "Give_Way                    bool\n",
      "Junction                    bool\n",
      "No_Exit                     bool\n",
      "Railway                     bool\n",
      "Roundabout                  bool\n",
      "Station                     bool\n",
      "Stop                        bool\n",
      "Traffic_Calming             bool\n",
      "Traffic_Signal              bool\n",
      "Turning_Loop                bool\n",
      "Sunrise_Sunset            object\n",
      "Civil_Twilight            object\n",
      "Nautical_Twilight         object\n",
      "Astronomical_Twilight     object\n",
      "dtype: object\n"
     ]
    }
   ],
   "source": [
    "datatype_series = df.dtypes\n",
    "print('Datatype of each column of df- ')\n",
    "print(datatype_series)"
   ]
  },
  {
   "cell_type": "code",
   "execution_count": 6,
   "id": "6f964d16",
   "metadata": {},
   "outputs": [],
   "source": [
    "# dropping unnecessary features\n",
    "\n",
    "df.drop(['Weather_Timestamp', 'Start_Time', 'End_Time', 'Start_Lat', 'Start_Lng', 'End_Lat',\n",
    "         'End_Lng', 'Description', 'Zipcode', 'Timezone'], axis=1, inplace=True)"
   ]
  },
  {
   "cell_type": "code",
   "execution_count": 7,
   "id": "dffd85e1",
   "metadata": {},
   "outputs": [
    {
     "name": "stdout",
     "output_type": "stream",
     "text": [
      "No. of Unique values for each column is mentioned below: \n",
      "ID : 50000\n",
      "Severity : 3\n",
      "Distance(mi) : 3908\n",
      "Number : 5478\n",
      "Street : 8547\n",
      "Side : 2\n",
      "City : 3832\n",
      "County : 968\n",
      "State : 44\n",
      "Country : 1\n",
      "Airport_Code : 1231\n",
      "Temperature(F) : 604\n",
      "Wind_Chill(F) : 696\n",
      "Humidity(%) : 98\n",
      "Pressure(in) : 240\n",
      "Visibility(mi) : 40\n",
      "Wind_Direction : 25\n",
      "Wind_Speed(mph) : 64\n",
      "Precipitation(in) : 93\n",
      "Weather_Condition : 50\n",
      "Amenity : 2\n",
      "Bump : 2\n",
      "Crossing : 2\n",
      "Give_Way : 2\n",
      "Junction : 2\n",
      "No_Exit : 2\n",
      "Railway : 2\n",
      "Roundabout : 1\n",
      "Station : 2\n",
      "Stop : 2\n",
      "Traffic_Calming : 2\n",
      "Traffic_Signal : 2\n",
      "Turning_Loop : 1\n",
      "Sunrise_Sunset : 3\n",
      "Civil_Twilight : 3\n",
      "Nautical_Twilight : 3\n",
      "Astronomical_Twilight : 3\n"
     ]
    }
   ],
   "source": [
    "# determining unique values\n",
    "\n",
    "print('No. of Unique values for each column is mentioned below: ')\n",
    "for col in df.columns:\n",
    "    print(f'{col} : {len(df[col].unique())}')"
   ]
  },
  {
   "cell_type": "code",
   "execution_count": 8,
   "id": "435a7f00",
   "metadata": {},
   "outputs": [
    {
     "data": {
      "text/plain": [
       "(50000, 37)"
      ]
     },
     "execution_count": 8,
     "metadata": {},
     "output_type": "execute_result"
    }
   ],
   "source": [
    "df.shape"
   ]
  },
  {
   "cell_type": "markdown",
   "id": "cf8ed8d9",
   "metadata": {},
   "source": [
    "## Finding Columns having only one Unique Values and drop them"
   ]
  },
  {
   "cell_type": "code",
   "execution_count": 9,
   "id": "9649caa7",
   "metadata": {},
   "outputs": [
    {
     "data": {
      "text/plain": [
       "['Country', 'Roundabout', 'Turning_Loop']"
      ]
     },
     "execution_count": 9,
     "metadata": {},
     "output_type": "execute_result"
    }
   ],
   "source": [
    "redundant_col = list()\n",
    "\n",
    "for col in df.columns:\n",
    "    if len(df[col].unique()) == 1:\n",
    "        redundant_col.append(col)\n",
    "\n",
    "redundant_col"
   ]
  },
  {
   "cell_type": "code",
   "execution_count": 10,
   "id": "e44ced8b",
   "metadata": {},
   "outputs": [
    {
     "data": {
      "text/plain": [
       "(50000, 37)"
      ]
     },
     "execution_count": 10,
     "metadata": {},
     "output_type": "execute_result"
    }
   ],
   "source": [
    "df.shape"
   ]
  },
  {
   "cell_type": "code",
   "execution_count": 11,
   "id": "905aa097",
   "metadata": {},
   "outputs": [
    {
     "data": {
      "text/plain": [
       "(50000, 34)"
      ]
     },
     "execution_count": 11,
     "metadata": {},
     "output_type": "execute_result"
    }
   ],
   "source": [
    "df.drop(redundant_col, axis=1, inplace= True)\n",
    "df.shape"
   ]
  },
  {
   "cell_type": "markdown",
   "id": "029806bc",
   "metadata": {},
   "source": [
    "## Structural Error detection and removal"
   ]
  },
  {
   "cell_type": "markdown",
   "id": "a09377bf",
   "metadata": {},
   "source": [
    "### For Wind_Direction Column"
   ]
  },
  {
   "cell_type": "code",
   "execution_count": 12,
   "id": "81ae96b3",
   "metadata": {},
   "outputs": [
    {
     "data": {
      "text/plain": [
       "array(['SW', 'Calm', 'WSW', 'WNW', 'West', 'NNW', 'South', 'W', 'NW',\n",
       "       'North', 'SSE', 'SSW', 'ESE', 'SE', nan, 'East', 'Variable', 'NNE',\n",
       "       'NE', 'ENE', 'CALM', 'S', 'VAR', 'N', 'E'], dtype=object)"
      ]
     },
     "execution_count": 12,
     "metadata": {},
     "output_type": "execute_result"
    }
   ],
   "source": [
    "df.Wind_Direction.unique()"
   ]
  },
  {
   "cell_type": "code",
   "execution_count": 13,
   "id": "c26b2781",
   "metadata": {},
   "outputs": [
    {
     "data": {
      "text/plain": [
       "Calm        6309\n",
       "West        4921\n",
       "South       4493\n",
       "North       3927\n",
       "WNW         2956\n",
       "WSW         2691\n",
       "SSE         2672\n",
       "SSW         2619\n",
       "NW          2509\n",
       "SW          2472\n",
       "NNW         2124\n",
       "East        2005\n",
       "SE          1932\n",
       "Variable    1839\n",
       "ESE         1692\n",
       "ENE         1427\n",
       "NNE         1381\n",
       "NE          1324\n",
       "CALM          88\n",
       "S             51\n",
       "VAR           38\n",
       "W             30\n",
       "E             18\n",
       "N             15\n",
       "Name: Wind_Direction, dtype: int64"
      ]
     },
     "execution_count": 13,
     "metadata": {},
     "output_type": "execute_result"
    }
   ],
   "source": [
    "df.Wind_Direction.value_counts()"
   ]
  },
  {
   "cell_type": "code",
   "execution_count": 14,
   "id": "3f3b2428",
   "metadata": {},
   "outputs": [],
   "source": [
    "# merging nearly similar values to reduce the no. of categories to avoid Curse of Dimensionalty \n",
    "\n",
    "df.Wind_Direction.replace(to_replace=['WNW','W','WSW'], value= 'West', inplace=True)\n",
    "df.Wind_Direction.replace(to_replace=['ESE','E','ENE'], value= 'East', inplace=True)\n",
    "df.Wind_Direction.replace(to_replace=['NNW','N','NNE'], value= 'North', inplace=True)\n",
    "df.Wind_Direction.replace(to_replace=['SSW','S','SSE'], value= 'South', inplace=True)\n",
    "df.Wind_Direction.replace(to_replace=['CALM'], value= 'Calm', inplace=True)\n",
    "df.Wind_Direction.replace(to_replace=['VAR'], value= 'Variable', inplace=True)"
   ]
  },
  {
   "cell_type": "code",
   "execution_count": 15,
   "id": "fac49378",
   "metadata": {},
   "outputs": [
    {
     "data": {
      "text/plain": [
       "West        10598\n",
       "South        9835\n",
       "North        7447\n",
       "Calm         6397\n",
       "East         5142\n",
       "NW           2509\n",
       "SW           2472\n",
       "SE           1932\n",
       "Variable     1877\n",
       "NE           1324\n",
       "Name: Wind_Direction, dtype: int64"
      ]
     },
     "execution_count": 15,
     "metadata": {},
     "output_type": "execute_result"
    }
   ],
   "source": [
    "df.Wind_Direction.value_counts()"
   ]
  },
  {
   "cell_type": "markdown",
   "id": "09c3534f",
   "metadata": {},
   "source": [
    "### For Weather_Condition Column"
   ]
  },
  {
   "cell_type": "code",
   "execution_count": 16,
   "id": "3ad00f1f",
   "metadata": {},
   "outputs": [
    {
     "data": {
      "text/plain": [
       "array(['Light Rain', 'Overcast', 'Mostly Cloudy', 'Snow', 'Light Snow',\n",
       "       'Cloudy', nan, 'Scattered Clouds', 'Clear', 'Partly Cloudy',\n",
       "       'Light Freezing Drizzle', 'Light Drizzle', 'Haze', 'Rain',\n",
       "       'Heavy Rain', 'Fair', 'Drizzle', 'Fog', 'Thunderstorms and Rain',\n",
       "       'Patches of Fog', 'Light Thunderstorms and Rain', 'Mist',\n",
       "       'Rain Showers', 'Light Rain Showers', 'Heavy Drizzle', 'Smoke',\n",
       "       'Light Freezing Fog', 'Light Freezing Rain', 'Blowing Snow',\n",
       "       'Heavy Thunderstorms and Rain', 'Heavy Snow', 'Snow Grains',\n",
       "       'Squalls', 'Light Fog', 'Shallow Fog', 'Thunderstorm',\n",
       "       'Light Ice Pellets', 'Thunder', 'Thunder in the Vicinity',\n",
       "       'Fair / Windy', 'Light Rain with Thunder',\n",
       "       'Heavy Thunderstorms and Snow', 'Light Snow Showers',\n",
       "       'Cloudy / Windy', 'Ice Pellets', 'N/A Precipitation',\n",
       "       'Light Thunderstorms and Snow', 'T-Storm', 'Rain / Windy',\n",
       "       'Wintry Mix'], dtype=object)"
      ]
     },
     "execution_count": 16,
     "metadata": {},
     "output_type": "execute_result"
    }
   ],
   "source": [
    "df.Weather_Condition.unique()"
   ]
  },
  {
   "cell_type": "code",
   "execution_count": 17,
   "id": "943ec907",
   "metadata": {},
   "outputs": [],
   "source": [
    "import matplotlib.pyplot as plt"
   ]
  },
  {
   "cell_type": "code",
   "execution_count": 18,
   "id": "9ea234a8",
   "metadata": {},
   "outputs": [
    {
     "data": {
      "text/plain": [
       "Text(0, 0.5, 'count')"
      ]
     },
     "execution_count": 18,
     "metadata": {},
     "output_type": "execute_result"
    },
    {
     "data": {
      "image/png": "[encoded data removed]",
      "text/plain": [
       "<Figure size 1296x576 with 1 Axes>"
      ]
     },
     "metadata": {
      "needs_background": "light"
     },
     "output_type": "display_data"
    }
   ],
   "source": [
    "plt.figure(figsize=(18,8))\n",
    "sns.set_style('whitegrid')\n",
    "sns.countplot(x='Weather_Condition', data= df, order= df['Weather_Condition'].value_counts().index)\n",
    "# plt.text()\n",
    "plt.xticks(rotation=90)\n",
    "plt.xlabel('Weather_Condition', fontsize=10)\n",
    "plt.ylabel('count', fontsize=10)"
   ]
  },
  {
   "cell_type": "markdown",
   "id": "264f3df8",
   "metadata": {},
   "source": [
    "- Replace the values with less count to 'others'"
   ]
  },
  {
   "cell_type": "code",
   "execution_count": 19,
   "id": "d44bea8f",
   "metadata": {},
   "outputs": [],
   "source": [
    "a = df['Weather_Condition'].value_counts()\n",
    "m = df['Weather_Condition'].isin(a.index[a < 1000])\n",
    "df.loc[m, 'Weather_Condition'] = 'Other'"
   ]
  },
  {
   "cell_type": "code",
   "execution_count": 20,
   "id": "9aeb7025",
   "metadata": {},
   "outputs": [
    {
     "data": {
      "text/plain": [
       "Clear               16388\n",
       "Overcast            10337\n",
       "Mostly Cloudy        6773\n",
       "Scattered Clouds     4715\n",
       "Partly Cloudy        4586\n",
       "Other                2633\n",
       "Light Rain           1799\n",
       "Light Snow           1358\n",
       "Name: Weather_Condition, dtype: int64"
      ]
     },
     "execution_count": 20,
     "metadata": {},
     "output_type": "execute_result"
    }
   ],
   "source": [
    "df['Weather_Condition'].value_counts()"
   ]
  },
  {
   "cell_type": "markdown",
   "id": "d81eea65",
   "metadata": {},
   "source": [
    "## Fixing Unwanted Outliers"
   ]
  },
  {
   "cell_type": "code",
   "execution_count": 21,
   "id": "82fb29d4",
   "metadata": {},
   "outputs": [],
   "source": [
    "def detect_outliers(df, col):\n",
    "    Q1 = np.nanpercentile(df[col], 25, interpolation= 'midpoint')\n",
    "    Q3 = np.nanpercentile(df[col], 75, interpolation= 'midpoint')\n",
    "    IQR = Q3 - Q1\n",
    "    upper_bound = Q3 + 1.5 * IQR\n",
    "    lower_bound = Q1 - 1.5 * IQR\n",
    "\n",
    "    ls = df.index[(df[col] < lower_bound) | (df[col] > upper_bound)]\n",
    "\n",
    "    return ls"
   ]
  },
  {
   "cell_type": "code",
   "execution_count": 22,
   "id": "72f4ee21",
   "metadata": {},
   "outputs": [
    {
     "data": {
      "text/plain": [
       "['Distance(mi)',\n",
       " 'Number',\n",
       " 'Temperature(F)',\n",
       " 'Wind_Chill(F)',\n",
       " 'Humidity(%)',\n",
       " 'Pressure(in)',\n",
       " 'Visibility(mi)',\n",
       " 'Wind_Speed(mph)',\n",
       " 'Precipitation(in)']"
      ]
     },
     "execution_count": 22,
     "metadata": {},
     "output_type": "execute_result"
    }
   ],
   "source": [
    "# getting a feature list of float64 data type\n",
    "\n",
    "features_lst = list()\n",
    "for col in df.columns:\n",
    "    if df[col].dtype == 'float64':\n",
    "        features_lst.append(col)\n",
    "\n",
    "features_lst            "
   ]
  },
  {
   "cell_type": "code",
   "execution_count": 23,
   "id": "0e186d03",
   "metadata": {},
   "outputs": [
    {
     "data": {
      "text/plain": [
       "17669"
      ]
     },
     "execution_count": 23,
     "metadata": {},
     "output_type": "execute_result"
    }
   ],
   "source": [
    "# create an empty list to store the output indices from multiple columns\n",
    "\n",
    "index_lst = []\n",
    "for feature in features_lst:\n",
    "    index_lst.extend(detect_outliers(df, feature))\n",
    "\n",
    "len(set(index_lst))"
   ]
  },
  {
   "cell_type": "code",
   "execution_count": 24,
   "id": "3fab906a",
   "metadata": {},
   "outputs": [],
   "source": [
    "def remove(df, ls):\n",
    "    ls = sorted(set(ls))\n",
    "    df = df.drop(ls)\n",
    "    return df"
   ]
  },
  {
   "cell_type": "code",
   "execution_count": 25,
   "id": "44bc02f6",
   "metadata": {},
   "outputs": [
    {
     "name": "stdout",
     "output_type": "stream",
     "text": [
      "(50000, 34)\n"
     ]
    }
   ],
   "source": [
    "print(df.shape)\n",
    "df_new = remove(df, index_lst)"
   ]
  },
  {
   "cell_type": "code",
   "execution_count": 26,
   "id": "3058e600",
   "metadata": {},
   "outputs": [
    {
     "name": "stdout",
     "output_type": "stream",
     "text": [
      "(32331, 34)\n"
     ]
    }
   ],
   "source": [
    "print(df_new.shape)"
   ]
  },
  {
   "cell_type": "code",
   "execution_count": 27,
   "id": "92e028e5",
   "metadata": {},
   "outputs": [
    {
     "data": {
      "text/plain": [
       "<AxesSubplot:xlabel='Wind_Direction', ylabel='Wind_Speed(mph)'>"
      ]
     },
     "execution_count": 27,
     "metadata": {},
     "output_type": "execute_result"
    },
    {
     "data": {
      "image/png": "[encoded data removed]",
      "text/plain": [
       "<Figure size 1008x504 with 1 Axes>"
      ]
     },
     "metadata": {},
     "output_type": "display_data"
    }
   ],
   "source": [
    "plt.figure(figsize=(14,7))\n",
    "sns.boxplot(x='Wind_Direction', y='Wind_Speed(mph)', data= df_new, palette= 'winter')"
   ]
  },
  {
   "cell_type": "code",
   "execution_count": 28,
   "id": "80df05cb",
   "metadata": {},
   "outputs": [],
   "source": [
    "df_new.drop(['County', 'State'], axis=1, inplace= True) # dropping country and state as it depends on the city values"
   ]
  },
  {
   "cell_type": "markdown",
   "id": "1e65de6f",
   "metadata": {},
   "source": [
    "## Missing Values Removal"
   ]
  },
  {
   "cell_type": "code",
   "execution_count": 29,
   "id": "4513ebfc",
   "metadata": {},
   "outputs": [
    {
     "data": {
      "text/plain": [
       "<AxesSubplot:>"
      ]
     },
     "execution_count": 29,
     "metadata": {},
     "output_type": "execute_result"
    },
    {
     "data": {
      "image/png": "[encoded data removed]",
      "text/plain": [
       "<Figure size 1152x720 with 1 Axes>"
      ]
     },
     "metadata": {},
     "output_type": "display_data"
    }
   ],
   "source": [
    "# plot a heatmap to visualize the missing values \n",
    "\n",
    "plt.figure(figsize=(16,10))\n",
    "sns.heatmap(df_new.isnull(), yticklabels= False, cbar=False, cmap='viridis')"
   ]
  },
  {
   "cell_type": "markdown",
   "id": "311e62a9",
   "metadata": {},
   "source": [
    "Here yellow lines in a column are missing values, which we need to impute"
   ]
  },
  {
   "cell_type": "code",
   "execution_count": 30,
   "id": "db94764c",
   "metadata": {},
   "outputs": [
    {
     "name": "stdout",
     "output_type": "stream",
     "text": [
      "Number: 26790\n",
      "Airport_Code: 40\n",
      "Temperature(F): 1078\n",
      "Wind_Chill(F): 26003\n",
      "Humidity(%): 1102\n",
      "Pressure(in): 1037\n",
      "Visibility(mi): 1289\n",
      "Wind_Direction: 403\n",
      "Wind_Speed(mph): 4996\n",
      "Precipitation(in): 30980\n",
      "Weather_Condition: 1192\n"
     ]
    }
   ],
   "source": [
    "# quantitatively determining the no. of missing valeus\n",
    "\n",
    "for col in df_new.columns:\n",
    "    total_na = df_new[col].isna().sum()\n",
    "    if total_na != 0:\n",
    "        print(f'{col}: {total_na}')"
   ]
  },
  {
   "cell_type": "code",
   "execution_count": 31,
   "id": "a68ed003",
   "metadata": {},
   "outputs": [],
   "source": [
    "df_new.dropna(subset=['Weather_Condition'], axis=0, inplace= True) "
   ]
  },
  {
   "cell_type": "code",
   "execution_count": 32,
   "id": "a4330adf",
   "metadata": {},
   "outputs": [
    {
     "data": {
      "text/plain": [
       "(31139, 32)"
      ]
     },
     "execution_count": 32,
     "metadata": {},
     "output_type": "execute_result"
    }
   ],
   "source": [
    "df_new.shape"
   ]
  },
  {
   "cell_type": "markdown",
   "id": "95a4554c",
   "metadata": {},
   "source": [
    "### Imputing Humidity"
   ]
  },
  {
   "cell_type": "code",
   "execution_count": 33,
   "id": "f71a4292",
   "metadata": {},
   "outputs": [
    {
     "data": {
      "text/plain": [
       "<AxesSubplot:xlabel='Weather_Condition', ylabel='Humidity(%)'>"
      ]
     },
     "execution_count": 33,
     "metadata": {},
     "output_type": "execute_result"
    },
    {
     "data": {
      "image/png": "[encoded data removed]",
      "text/plain": [
       "<Figure size 1008x504 with 1 Axes>"
      ]
     },
     "metadata": {},
     "output_type": "display_data"
    }
   ],
   "source": [
    "plt.figure(figsize=(14,7))\n",
    "sns.boxplot(x='Weather_Condition', y='Humidity(%)', data= df_new, palette= 'winter')"
   ]
  },
  {
   "cell_type": "code",
   "execution_count": 34,
   "id": "20f02976",
   "metadata": {},
   "outputs": [],
   "source": [
    "def impute_humidity(cols):\n",
    "    Humidity = cols[0]\n",
    "    Weather_Cond = cols[1]\n",
    "    \n",
    "    if pd.isnull(Humidity):\n",
    "        \n",
    "        if Weather_Cond == 'Light Rain':\n",
    "            return 85.\n",
    "        \n",
    "        elif Weather_Cond == 'Overcast':\n",
    "            return 75.\n",
    "        \n",
    "        elif Weather_Cond == 'Mostly Cloudy':\n",
    "            return 64.\n",
    "        \n",
    "        elif Weather_Cond == 'Scattered Clouds':\n",
    "            return 60.\n",
    "        \n",
    "        elif Weather_Cond == 'Partly Cloudy':\n",
    "            return 58.\n",
    "        \n",
    "        elif Weather_Cond == 'Clear':\n",
    "            return 56.\n",
    "        \n",
    "        elif Weather_Cond == 'Light Snow':\n",
    "            return 72.\n",
    "        \n",
    "        else:\n",
    "            return 77.\n",
    "        \n",
    "    else:\n",
    "        return Humidity"
   ]
  },
  {
   "cell_type": "code",
   "execution_count": 35,
   "id": "d5b24780",
   "metadata": {},
   "outputs": [],
   "source": [
    "df_new['Humidity(%)'] = df_new[['Humidity(%)', 'Weather_Condition']].apply(impute_humidity, axis=1)"
   ]
  },
  {
   "cell_type": "markdown",
   "id": "6c9e5f50",
   "metadata": {},
   "source": [
    "### 'Wind_Chill' column"
   ]
  },
  {
   "cell_type": "code",
   "execution_count": 36,
   "id": "2308e349",
   "metadata": {},
   "outputs": [
    {
     "data": {
      "text/plain": [
       "<matplotlib.collections.PathCollection at 0x2efdb932fd0>"
      ]
     },
     "execution_count": 36,
     "metadata": {},
     "output_type": "execute_result"
    },
    {
     "data": {
      "image/png": "[encoded data removed]",
      "text/plain": [
       "<Figure size 432x288 with 1 Axes>"
      ]
     },
     "metadata": {},
     "output_type": "display_data"
    }
   ],
   "source": [
    "plt.scatter(x=df_new['Temperature(F)'], y= df_new['Wind_Chill(F)'])"
   ]
  },
  {
   "cell_type": "code",
   "execution_count": 37,
   "id": "827d74b3",
   "metadata": {},
   "outputs": [
    {
     "data": {
      "text/plain": [
       "0.9864861796850944"
      ]
     },
     "execution_count": 37,
     "metadata": {},
     "output_type": "execute_result"
    }
   ],
   "source": [
    "df_new['Temperature(F)'].corr(df_new['Wind_Chill(F)'])"
   ]
  },
  {
   "cell_type": "code",
   "execution_count": 38,
   "id": "29d42bdd",
   "metadata": {},
   "outputs": [],
   "source": [
    "df_new.drop(['Wind_Chill(F)'], axis=1, inplace= True) #drop this column as it has 98.7% correlated with Temperature column"
   ]
  },
  {
   "cell_type": "markdown",
   "id": "9cccf697",
   "metadata": {},
   "source": [
    "### Dealing with 'Number' column"
   ]
  },
  {
   "cell_type": "code",
   "execution_count": 39,
   "id": "a52f76c9",
   "metadata": {},
   "outputs": [
    {
     "name": "stdout",
     "output_type": "stream",
     "text": [
      "82.6 % data is missing in the Number Column\n"
     ]
    }
   ],
   "source": [
    "missing_percent_in_Number = df_new['Number'].isnull().sum() / df_new.shape[0] * 100 \n",
    "print(round(missing_percent_in_Number, 2),'% data is missing in the Number Column')"
   ]
  },
  {
   "cell_type": "code",
   "execution_count": 40,
   "id": "da1a8aad",
   "metadata": {},
   "outputs": [],
   "source": [
    "df_new.drop(['Number'], axis=1, inplace= True) # drop this column as it has high percentage of missing values"
   ]
  },
  {
   "cell_type": "markdown",
   "id": "16c528de",
   "metadata": {},
   "source": [
    "### Imputing Temperature"
   ]
  },
  {
   "cell_type": "code",
   "execution_count": 41,
   "id": "cd54f499",
   "metadata": {},
   "outputs": [
    {
     "data": {
      "text/plain": [
       "<AxesSubplot:xlabel='Weather_Condition', ylabel='Temperature(F)'>"
      ]
     },
     "execution_count": 41,
     "metadata": {},
     "output_type": "execute_result"
    },
    {
     "data": {
      "image/png": "[encoded data removed]",
      "text/plain": [
       "<Figure size 1008x504 with 1 Axes>"
      ]
     },
     "metadata": {},
     "output_type": "display_data"
    }
   ],
   "source": [
    "plt.figure(figsize=(14,7))\n",
    "sns.boxplot(x='Weather_Condition', y='Temperature(F)', data= df_new, palette= 'winter')"
   ]
  },
  {
   "cell_type": "code",
   "execution_count": 42,
   "id": "0a93357b",
   "metadata": {},
   "outputs": [],
   "source": [
    "def impute_temp(cols):\n",
    "    Temp = cols[0]\n",
    "    Weather_Cond = cols[1]\n",
    "    \n",
    "    if pd.isnull(Temp):\n",
    "        \n",
    "        if Weather_Cond == 'Light Rain':\n",
    "            return 60.\n",
    "        \n",
    "        elif Weather_Cond == 'Overcast':\n",
    "            return 51.\n",
    "        \n",
    "        elif Weather_Cond == 'Mostly Cloudy':\n",
    "            return 67.\n",
    "        \n",
    "        elif Weather_Cond == 'Scattered Clouds':\n",
    "            return 71.\n",
    "        \n",
    "        elif Weather_Cond == 'Partly Cloudy':\n",
    "            return 67.\n",
    "        \n",
    "        elif Weather_Cond == 'Clear':\n",
    "            return 65.\n",
    "        \n",
    "        elif Weather_Cond == 'Light Snow':\n",
    "            return 25.\n",
    "        \n",
    "        elif Weather_Cond == 'Other':\n",
    "            return 63.\n",
    "        \n",
    "    else:\n",
    "        return Temp"
   ]
  },
  {
   "cell_type": "code",
   "execution_count": 43,
   "id": "e033a385",
   "metadata": {},
   "outputs": [],
   "source": [
    "df_new['Temperature(F)'] = df_new[['Temperature(F)', 'Weather_Condition']].apply(impute_temp, axis=1)"
   ]
  },
  {
   "cell_type": "code",
   "execution_count": 44,
   "id": "0e4886c1",
   "metadata": {},
   "outputs": [
    {
     "data": {
      "text/plain": [
       "0"
      ]
     },
     "execution_count": 44,
     "metadata": {},
     "output_type": "execute_result"
    }
   ],
   "source": [
    "df_new['Temperature(F)'].isna().sum() # just checking the na values after imputing"
   ]
  },
  {
   "cell_type": "markdown",
   "id": "9096462f",
   "metadata": {},
   "source": [
    "### Dealing with 'Visibility' column"
   ]
  },
  {
   "cell_type": "code",
   "execution_count": 45,
   "id": "49d37c6b",
   "metadata": {
    "scrolled": true
   },
   "outputs": [
    {
     "data": {
      "text/plain": [
       "<AxesSubplot:xlabel='Weather_Condition', ylabel='Visibility(mi)'>"
      ]
     },
     "execution_count": 45,
     "metadata": {},
     "output_type": "execute_result"
    },
    {
     "data": {
      "image/png": "[encoded data removed]",
      "text/plain": [
       "<Figure size 1008x504 with 1 Axes>"
      ]
     },
     "metadata": {},
     "output_type": "display_data"
    }
   ],
   "source": [
    "plt.figure(figsize=(14,7))\n",
    "sns.boxplot(x='Weather_Condition', y='Visibility(mi)', data= df_new, palette= 'winter')"
   ]
  },
  {
   "cell_type": "markdown",
   "id": "f90f057e",
   "metadata": {},
   "source": [
    "- this box plot looks strange. Let's cheeck the column statistics of Visibility"
   ]
  },
  {
   "cell_type": "code",
   "execution_count": 46,
   "id": "1c634999",
   "metadata": {},
   "outputs": [
    {
     "data": {
      "text/plain": [
       "count    30972.0\n",
       "mean        10.0\n",
       "std          0.0\n",
       "min         10.0\n",
       "25%         10.0\n",
       "50%         10.0\n",
       "75%         10.0\n",
       "max         10.0\n",
       "Name: Visibility(mi), dtype: float64"
      ]
     },
     "execution_count": 46,
     "metadata": {},
     "output_type": "execute_result"
    }
   ],
   "source": [
    "df_new['Visibility(mi)'].describe()"
   ]
  },
  {
   "cell_type": "code",
   "execution_count": 47,
   "id": "90020feb",
   "metadata": {},
   "outputs": [
    {
     "data": {
      "text/plain": [
       "<AxesSubplot:>"
      ]
     },
     "execution_count": 47,
     "metadata": {},
     "output_type": "execute_result"
    },
    {
     "data": {
      "image/png": "[encoded data removed]",
      "text/plain": [
       "<Figure size 432x288 with 1 Axes>"
      ]
     },
     "metadata": {},
     "output_type": "display_data"
    }
   ],
   "source": [
    "df_new['Visibility(mi)'].hist()"
   ]
  },
  {
   "cell_type": "markdown",
   "id": "35b21172",
   "metadata": {},
   "source": [
    "- We get to know that all the values of visibilty is same ie 10 miles which is equal to 16 km roughy which is enough to prevent collision with other vehicles. So,  let's drop it"
   ]
  },
  {
   "cell_type": "code",
   "execution_count": 48,
   "id": "0e050caf",
   "metadata": {},
   "outputs": [],
   "source": [
    "df_new.drop(['Visibility(mi)'], axis=1, inplace= True)"
   ]
  },
  {
   "cell_type": "markdown",
   "id": "23bb8557",
   "metadata": {},
   "source": [
    "### Dealing with 'Precipitation' column"
   ]
  },
  {
   "cell_type": "code",
   "execution_count": 49,
   "id": "b50edac3",
   "metadata": {},
   "outputs": [
    {
     "name": "stdout",
     "output_type": "stream",
     "text": [
      "95.7 % data is missing in the Number Column\n"
     ]
    }
   ],
   "source": [
    "missing_percent_in_Number = df_new['Precipitation(in)'].isnull().sum() / df_new.shape[0] * 100 \n",
    "print(round(missing_percent_in_Number, 2),'% data is missing in the Number Column')"
   ]
  },
  {
   "cell_type": "markdown",
   "id": "659e3e1d",
   "metadata": {},
   "source": [
    "- We can't impute so much missing values"
   ]
  },
  {
   "cell_type": "code",
   "execution_count": 50,
   "id": "b7262815",
   "metadata": {},
   "outputs": [],
   "source": [
    "df_new.drop(['Precipitation(in)'], axis=1, inplace= True)"
   ]
  },
  {
   "cell_type": "markdown",
   "id": "0c658890",
   "metadata": {},
   "source": [
    "### Dealing with 'Wind_Speed' column"
   ]
  },
  {
   "cell_type": "code",
   "execution_count": 51,
   "id": "6423fbfe",
   "metadata": {},
   "outputs": [
    {
     "data": {
      "text/plain": [
       "<matplotlib.collections.PathCollection at 0x2efde5709a0>"
      ]
     },
     "execution_count": 51,
     "metadata": {},
     "output_type": "execute_result"
    },
    {
     "data": {
      "image/png": "[encoded data removed]",
      "text/plain": [
       "<Figure size 720x360 with 1 Axes>"
      ]
     },
     "metadata": {},
     "output_type": "display_data"
    }
   ],
   "source": [
    "# let's see the variation of pressure with wind_speed\n",
    "\n",
    "plt.figure(figsize=(10,5))\n",
    "\n",
    "plt.scatter(x= df_new['Pressure(in)'], y= df_new['Wind_Speed(mph)'])"
   ]
  },
  {
   "cell_type": "code",
   "execution_count": 52,
   "id": "20375e1e",
   "metadata": {},
   "outputs": [
    {
     "data": {
      "text/plain": [
       "-0.1214686522577567"
      ]
     },
     "execution_count": 52,
     "metadata": {},
     "output_type": "execute_result"
    }
   ],
   "source": [
    "df_new['Pressure(in)'].corr(df_new['Wind_Speed(mph)'])"
   ]
  },
  {
   "cell_type": "markdown",
   "id": "8ec66dd2",
   "metadata": {},
   "source": [
    "- too low correlation "
   ]
  },
  {
   "cell_type": "code",
   "execution_count": 53,
   "id": "ce34a24e",
   "metadata": {},
   "outputs": [
    {
     "data": {
      "text/plain": [
       "<AxesSubplot:>"
      ]
     },
     "execution_count": 53,
     "metadata": {},
     "output_type": "execute_result"
    },
    {
     "data": {
      "image/png": "[encoded data removed]",
      "text/plain": [
       "<Figure size 432x288 with 1 Axes>"
      ]
     },
     "metadata": {},
     "output_type": "display_data"
    }
   ],
   "source": [
    "df_new['Wind_Speed(mph)'].hist(bins=10, alpha=0.7)"
   ]
  },
  {
   "cell_type": "markdown",
   "id": "28732d2d",
   "metadata": {},
   "source": [
    "- follows a Gaussian distribution"
   ]
  },
  {
   "cell_type": "code",
   "execution_count": 54,
   "id": "a3f179f3",
   "metadata": {},
   "outputs": [
    {
     "data": {
      "text/plain": [
       "count    27248.000000\n",
       "mean         9.116776\n",
       "std          3.970789\n",
       "min          0.000000\n",
       "25%          5.800000\n",
       "50%          8.100000\n",
       "75%         11.500000\n",
       "max         19.600000\n",
       "Name: Wind_Speed(mph), dtype: float64"
      ]
     },
     "execution_count": 54,
     "metadata": {},
     "output_type": "execute_result"
    }
   ],
   "source": [
    "df_new['Wind_Speed(mph)'].describe()"
   ]
  },
  {
   "cell_type": "code",
   "execution_count": 55,
   "id": "9cee297f",
   "metadata": {},
   "outputs": [],
   "source": [
    "df_new['Wind_Speed(mph)'].fillna(df_new['Wind_Speed(mph)'].mean(), inplace = True)"
   ]
  },
  {
   "cell_type": "markdown",
   "id": "86577a2e",
   "metadata": {},
   "source": [
    "### Filling na values of 'Wind_Direction'"
   ]
  },
  {
   "cell_type": "code",
   "execution_count": 56,
   "id": "3da88caf",
   "metadata": {},
   "outputs": [],
   "source": [
    "df_new['Wind_Direction'].fillna(df_new['Wind_Direction'].mode()[0], inplace = True)"
   ]
  },
  {
   "cell_type": "markdown",
   "id": "13461dff",
   "metadata": {},
   "source": [
    "### Filling na values of 'Pressure' column"
   ]
  },
  {
   "cell_type": "code",
   "execution_count": 57,
   "id": "53cba48b",
   "metadata": {},
   "outputs": [
    {
     "data": {
      "text/plain": [
       "count    31090.000000\n",
       "mean        30.044668\n",
       "std          0.183390\n",
       "min         29.540000\n",
       "25%         29.920000\n",
       "50%         30.020000\n",
       "75%         30.150000\n",
       "max         30.530000\n",
       "Name: Pressure(in), dtype: float64"
      ]
     },
     "execution_count": 57,
     "metadata": {},
     "output_type": "execute_result"
    }
   ],
   "source": [
    "df_new['Pressure(in)'].describe()"
   ]
  },
  {
   "cell_type": "code",
   "execution_count": 58,
   "id": "02666146",
   "metadata": {},
   "outputs": [],
   "source": [
    "df_new['Pressure(in)'].fillna(df_new['Pressure(in)'].mean(), inplace = True)"
   ]
  },
  {
   "cell_type": "markdown",
   "id": "1837a8d3",
   "metadata": {},
   "source": [
    "### Checking Heatmap again for any Missing values"
   ]
  },
  {
   "cell_type": "code",
   "execution_count": 59,
   "id": "26e7c395",
   "metadata": {},
   "outputs": [
    {
     "data": {
      "text/plain": [
       "<AxesSubplot:>"
      ]
     },
     "execution_count": 59,
     "metadata": {},
     "output_type": "execute_result"
    },
    {
     "data": {
      "image/png": "[encoded data removed]",
      "text/plain": [
       "<Figure size 1152x720 with 1 Axes>"
      ]
     },
     "metadata": {},
     "output_type": "display_data"
    }
   ],
   "source": [
    "plt.figure(figsize=(14,7))\n",
    "sns.heatmap(df_new.isnull(), yticklabels= False, cbar=False, cmap='viridis')"
   ]
  },
  {
   "cell_type": "code",
   "execution_count": 60,
   "id": "bb2d47fe",
   "metadata": {},
   "outputs": [
    {
     "name": "stdout",
     "output_type": "stream",
     "text": [
      "No missing values present!\n"
     ]
    }
   ],
   "source": [
    "for col in df_new.columns:\n",
    "    total_na = df_new[col].isna().sum()\n",
    "    if total_na != 0:\n",
    "        print(f'{col}: {total_na}')\n",
    "else:\n",
    "    print('No missing values present!')"
   ]
  },
  {
   "cell_type": "code",
   "execution_count": 61,
   "id": "9cdbf1f7",
   "metadata": {},
   "outputs": [
    {
     "data": {
      "text/plain": [
       "(31139, 28)"
      ]
     },
     "execution_count": 61,
     "metadata": {},
     "output_type": "execute_result"
    }
   ],
   "source": [
    "df_new.shape"
   ]
  },
  {
   "cell_type": "code",
   "execution_count": 62,
   "id": "9f8a1eae",
   "metadata": {},
   "outputs": [
    {
     "data": {
      "text/plain": [
       "Index(['ID', 'Severity', 'Distance(mi)', 'Street', 'Side', 'City',\n",
       "       'Airport_Code', 'Temperature(F)', 'Humidity(%)', 'Pressure(in)',\n",
       "       'Wind_Direction', 'Wind_Speed(mph)', 'Weather_Condition', 'Amenity',\n",
       "       'Bump', 'Crossing', 'Give_Way', 'Junction', 'No_Exit', 'Railway',\n",
       "       'Station', 'Stop', 'Traffic_Calming', 'Traffic_Signal',\n",
       "       'Sunrise_Sunset', 'Civil_Twilight', 'Nautical_Twilight',\n",
       "       'Astronomical_Twilight'],\n",
       "      dtype='object')"
      ]
     },
     "execution_count": 62,
     "metadata": {},
     "output_type": "execute_result"
    }
   ],
   "source": [
    "df_new.columns"
   ]
  },
  {
   "cell_type": "markdown",
   "id": "47a277b8",
   "metadata": {},
   "source": [
    "### Remove redundant column 'ID'"
   ]
  },
  {
   "cell_type": "code",
   "execution_count": 63,
   "id": "b16c2b61",
   "metadata": {},
   "outputs": [
    {
     "data": {
      "text/plain": [
       "31139"
      ]
     },
     "execution_count": 63,
     "metadata": {},
     "output_type": "execute_result"
    }
   ],
   "source": [
    "len(df_new['ID'].unique())"
   ]
  },
  {
   "cell_type": "code",
   "execution_count": 64,
   "id": "cd9519b8",
   "metadata": {},
   "outputs": [],
   "source": [
    "df_new.drop(['ID'], axis=1, inplace= True) # all values are unique. Hence, not helpful in classification"
   ]
  },
  {
   "cell_type": "markdown",
   "id": "535e377d",
   "metadata": {},
   "source": [
    "## One-hot Encoding"
   ]
  },
  {
   "cell_type": "markdown",
   "id": "3a79e31d",
   "metadata": {},
   "source": [
    "### For 'Street' column"
   ]
  },
  {
   "cell_type": "code",
   "execution_count": 65,
   "id": "caaf93a6",
   "metadata": {},
   "outputs": [
    {
     "data": {
      "text/plain": [
       "6215"
      ]
     },
     "execution_count": 65,
     "metadata": {},
     "output_type": "execute_result"
    }
   ],
   "source": [
    "len(df_new['Street'].unique())"
   ]
  },
  {
   "cell_type": "markdown",
   "id": "416f4f38",
   "metadata": {},
   "source": [
    "- too much uniques values are present"
   ]
  },
  {
   "cell_type": "code",
   "execution_count": 66,
   "id": "8785fd01",
   "metadata": {},
   "outputs": [
    {
     "data": {
      "text/plain": [
       "I-95 N             435\n",
       "I-45 N             410\n",
       "I-10 W             407\n",
       "San Diego Fwy S    332\n",
       "I-94 W             317\n",
       "I-5 N              315\n",
       "I-95 S             306\n",
       "I-10 E             290\n",
       "US-101 N           272\n",
       "I-80 W             272\n",
       "Name: Street, dtype: int64"
      ]
     },
     "execution_count": 66,
     "metadata": {},
     "output_type": "execute_result"
    }
   ],
   "source": [
    "# getting top 10 categories of Street column\n",
    "\n",
    "df_new['Street'].value_counts().sort_values(ascending=False).head(10)"
   ]
  },
  {
   "cell_type": "code",
   "execution_count": 67,
   "id": "24fea7fd",
   "metadata": {},
   "outputs": [],
   "source": [
    "# storing index of top 10 street categories\n",
    "\n",
    "top_10_streets = [x for x in df_new.Street.value_counts().sort_values(ascending=False).head(10).index] \n",
    "# top_10"
   ]
  },
  {
   "cell_type": "code",
   "execution_count": 68,
   "id": "667dbf3b",
   "metadata": {},
   "outputs": [],
   "source": [
    "def one_hot_top_x(df, col, top_x_labels):\n",
    "    \n",
    "    for label in top_x_labels:\n",
    "        df[col + '_' + label] = np.where(df_new[col]==label,1,0)"
   ]
  },
  {
   "cell_type": "code",
   "execution_count": 69,
   "id": "78c99789",
   "metadata": {},
   "outputs": [],
   "source": [
    "one_hot_top_x(df= df_new, col= 'Street', top_x_labels= top_10_streets)"
   ]
  },
  {
   "cell_type": "markdown",
   "id": "4e92f03c",
   "metadata": {},
   "source": [
    "- Similarly, doing for other columns which have high number of unique values"
   ]
  },
  {
   "cell_type": "markdown",
   "id": "64f7a045",
   "metadata": {},
   "source": [
    "### For 'City' column"
   ]
  },
  {
   "cell_type": "code",
   "execution_count": 70,
   "id": "7116ea3d",
   "metadata": {},
   "outputs": [],
   "source": [
    "top_10_city = [x for x in df_new.Street.value_counts().sort_values(ascending=False).head(10).index]\n",
    "\n",
    "one_hot_top_x(df= df_new, col= 'City', top_x_labels= top_10_city)"
   ]
  },
  {
   "cell_type": "markdown",
   "id": "d0023a42",
   "metadata": {},
   "source": [
    "### For 'Airport_Code' column"
   ]
  },
  {
   "cell_type": "code",
   "execution_count": 71,
   "id": "83175608",
   "metadata": {},
   "outputs": [],
   "source": [
    "top_5_airports = [x for x in df_new.Airport_Code.value_counts().sort_values(ascending=False).head(5).index]\n",
    "\n",
    "one_hot_top_x(df= df_new, col= 'Airport_Code', top_x_labels= top_5_airports)"
   ]
  },
  {
   "cell_type": "markdown",
   "id": "f88aea8d",
   "metadata": {},
   "source": [
    "### For 'Wind_Direction' column"
   ]
  },
  {
   "cell_type": "code",
   "execution_count": 72,
   "id": "9dd54a3a",
   "metadata": {},
   "outputs": [],
   "source": [
    "top_9_WD = [x for x in df_new.Wind_Direction.value_counts().sort_values(ascending=False).head(9).index]\n",
    "\n",
    "one_hot_top_x(df= df_new, col= 'Wind_Direction', top_x_labels= top_9_WD)"
   ]
  },
  {
   "cell_type": "markdown",
   "id": "ec7e5d15",
   "metadata": {},
   "source": [
    "### For 'Weather_Condition'"
   ]
  },
  {
   "cell_type": "code",
   "execution_count": 73,
   "id": "1285056f",
   "metadata": {},
   "outputs": [],
   "source": [
    "top_7_WD = [x for x in df_new.Wind_Direction.value_counts().sort_values(ascending=False).head(7).index]\n",
    "\n",
    "one_hot_top_x(df= df_new, col= 'Weather_Condition', top_x_labels= top_7_WD)"
   ]
  },
  {
   "cell_type": "code",
   "execution_count": 74,
   "id": "c3ecc777",
   "metadata": {},
   "outputs": [
    {
     "data": {
      "text/plain": [
       "(31139, 68)"
      ]
     },
     "execution_count": 74,
     "metadata": {},
     "output_type": "execute_result"
    }
   ],
   "source": [
    "df_new.shape"
   ]
  },
  {
   "cell_type": "code",
   "execution_count": 75,
   "id": "2160f1af",
   "metadata": {},
   "outputs": [
    {
     "data": {
      "text/plain": [
       "Index(['Severity', 'Distance(mi)', 'Street', 'Side', 'City', 'Airport_Code',\n",
       "       'Temperature(F)', 'Humidity(%)', 'Pressure(in)', 'Wind_Direction',\n",
       "       'Wind_Speed(mph)', 'Weather_Condition', 'Amenity', 'Bump', 'Crossing',\n",
       "       'Give_Way', 'Junction', 'No_Exit', 'Railway', 'Station', 'Stop',\n",
       "       'Traffic_Calming', 'Traffic_Signal', 'Sunrise_Sunset', 'Civil_Twilight',\n",
       "       'Nautical_Twilight', 'Astronomical_Twilight', 'Street_I-95 N',\n",
       "       'Street_I-45 N', 'Street_I-10 W', 'Street_San Diego Fwy S',\n",
       "       'Street_I-94 W', 'Street_I-5 N', 'Street_I-95 S', 'Street_I-10 E',\n",
       "       'Street_US-101 N', 'Street_I-80 W', 'City_I-95 N', 'City_I-45 N',\n",
       "       'City_I-10 W', 'City_San Diego Fwy S', 'City_I-94 W', 'City_I-5 N',\n",
       "       'City_I-95 S', 'City_I-10 E', 'City_US-101 N', 'City_I-80 W',\n",
       "       'Airport_Code_KMCJ', 'Airport_Code_KDAL', 'Airport_Code_KCQT',\n",
       "       'Airport_Code_KMKC', 'Airport_Code_KRBD', 'Wind_Direction_West',\n",
       "       'Wind_Direction_South', 'Wind_Direction_North', 'Wind_Direction_Calm',\n",
       "       'Wind_Direction_East', 'Wind_Direction_NW', 'Wind_Direction_SW',\n",
       "       'Wind_Direction_Variable', 'Wind_Direction_SE',\n",
       "       'Weather_Condition_West', 'Weather_Condition_South',\n",
       "       'Weather_Condition_North', 'Weather_Condition_Calm',\n",
       "       'Weather_Condition_East', 'Weather_Condition_NW',\n",
       "       'Weather_Condition_SW'],\n",
       "      dtype='object')"
      ]
     },
     "execution_count": 75,
     "metadata": {},
     "output_type": "execute_result"
    }
   ],
   "source": [
    "df_new.columns"
   ]
  },
  {
   "cell_type": "code",
   "execution_count": 76,
   "id": "36bc6e86",
   "metadata": {},
   "outputs": [],
   "source": [
    "df_ohe = df_new \n",
    "categorical_columns = ['Amenity', 'Bump', 'Crossing','Side',\n",
    "       'Give_Way', 'Junction', 'No_Exit', 'Railway', 'Station', 'Stop',\n",
    "       'Traffic_Calming', 'Traffic_Signal', 'Sunrise_Sunset', 'Civil_Twilight',\n",
    "       'Nautical_Twilight', 'Astronomical_Twilight']\n",
    "for col in categorical_columns:\n",
    "    col_ohe = pd.get_dummies(df_new[col], prefix= col, drop_first=True)\n",
    "    df_ohe = pd.concat((df_ohe, col_ohe), axis=1).drop(col, axis=1)"
   ]
  },
  {
   "cell_type": "code",
   "execution_count": 77,
   "id": "4467696f",
   "metadata": {},
   "outputs": [
    {
     "data": {
      "text/plain": [
       "(31139, 68)"
      ]
     },
     "execution_count": 77,
     "metadata": {},
     "output_type": "execute_result"
    }
   ],
   "source": [
    "df_ohe.shape"
   ]
  },
  {
   "cell_type": "code",
   "execution_count": 78,
   "id": "b4621943",
   "metadata": {},
   "outputs": [
    {
     "data": {
      "text/plain": [
       "Index(['Severity', 'Distance(mi)', 'Street', 'City', 'Airport_Code',\n",
       "       'Temperature(F)', 'Humidity(%)', 'Pressure(in)', 'Wind_Direction',\n",
       "       'Wind_Speed(mph)', 'Weather_Condition', 'Street_I-95 N',\n",
       "       'Street_I-45 N', 'Street_I-10 W', 'Street_San Diego Fwy S',\n",
       "       'Street_I-94 W', 'Street_I-5 N', 'Street_I-95 S', 'Street_I-10 E',\n",
       "       'Street_US-101 N', 'Street_I-80 W', 'City_I-95 N', 'City_I-45 N',\n",
       "       'City_I-10 W', 'City_San Diego Fwy S', 'City_I-94 W', 'City_I-5 N',\n",
       "       'City_I-95 S', 'City_I-10 E', 'City_US-101 N', 'City_I-80 W',\n",
       "       'Airport_Code_KMCJ', 'Airport_Code_KDAL', 'Airport_Code_KCQT',\n",
       "       'Airport_Code_KMKC', 'Airport_Code_KRBD', 'Wind_Direction_West',\n",
       "       'Wind_Direction_South', 'Wind_Direction_North', 'Wind_Direction_Calm',\n",
       "       'Wind_Direction_East', 'Wind_Direction_NW', 'Wind_Direction_SW',\n",
       "       'Wind_Direction_Variable', 'Wind_Direction_SE',\n",
       "       'Weather_Condition_West', 'Weather_Condition_South',\n",
       "       'Weather_Condition_North', 'Weather_Condition_Calm',\n",
       "       'Weather_Condition_East', 'Weather_Condition_NW',\n",
       "       'Weather_Condition_SW', 'Amenity_True', 'Bump_True', 'Crossing_True',\n",
       "       'Side_R', 'Give_Way_True', 'Junction_True', 'No_Exit_True',\n",
       "       'Railway_True', 'Station_True', 'Stop_True', 'Traffic_Calming_True',\n",
       "       'Traffic_Signal_True', 'Sunrise_Sunset_Night', 'Civil_Twilight_Night',\n",
       "       'Nautical_Twilight_Night', 'Astronomical_Twilight_Night'],\n",
       "      dtype='object')"
      ]
     },
     "execution_count": 78,
     "metadata": {},
     "output_type": "execute_result"
    }
   ],
   "source": [
    "df_ohe.columns"
   ]
  },
  {
   "cell_type": "code",
   "execution_count": 79,
   "id": "e3e63027",
   "metadata": {},
   "outputs": [],
   "source": [
    "df_ohe.drop(['Street', 'City', 'Airport_Code', 'Weather_Condition','Wind_Direction'], axis=1, inplace=True)"
   ]
  },
  {
   "cell_type": "code",
   "execution_count": 80,
   "id": "5379ce6e",
   "metadata": {},
   "outputs": [
    {
     "data": {
      "text/plain": [
       "(31139, 63)"
      ]
     },
     "execution_count": 80,
     "metadata": {},
     "output_type": "execute_result"
    }
   ],
   "source": [
    "df_ohe.shape"
   ]
  },
  {
   "cell_type": "code",
   "execution_count": 81,
   "id": "0f79e925",
   "metadata": {},
   "outputs": [
    {
     "data": {
      "text/html": [
       "<div>\n",
       "<style scoped>\n",
       "    .dataframe tbody tr th:only-of-type {\n",
       "        vertical-align: middle;\n",
       "    }\n",
       "\n",
       "    .dataframe tbody tr th {\n",
       "        vertical-align: top;\n",
       "    }\n",
       "\n",
       "    .dataframe thead th {\n",
       "        text-align: right;\n",
       "    }\n",
       "</style>\n",
       "<table border=\"1\" class=\"dataframe\">\n",
       "  <thead>\n",
       "    <tr style=\"text-align: right;\">\n",
       "      <th></th>\n",
       "      <th>Severity</th>\n",
       "      <th>Distance(mi)</th>\n",
       "      <th>Temperature(F)</th>\n",
       "      <th>Humidity(%)</th>\n",
       "      <th>Pressure(in)</th>\n",
       "      <th>Wind_Speed(mph)</th>\n",
       "      <th>Street_I-95 N</th>\n",
       "      <th>Street_I-45 N</th>\n",
       "      <th>Street_I-10 W</th>\n",
       "      <th>Street_San Diego Fwy S</th>\n",
       "      <th>...</th>\n",
       "      <th>No_Exit_True</th>\n",
       "      <th>Railway_True</th>\n",
       "      <th>Station_True</th>\n",
       "      <th>Stop_True</th>\n",
       "      <th>Traffic_Calming_True</th>\n",
       "      <th>Traffic_Signal_True</th>\n",
       "      <th>Sunrise_Sunset_Night</th>\n",
       "      <th>Civil_Twilight_Night</th>\n",
       "      <th>Nautical_Twilight_Night</th>\n",
       "      <th>Astronomical_Twilight_Night</th>\n",
       "    </tr>\n",
       "  </thead>\n",
       "  <tbody>\n",
       "    <tr>\n",
       "      <th>1</th>\n",
       "      <td>2</td>\n",
       "      <td>0.747</td>\n",
       "      <td>36.9</td>\n",
       "      <td>91.0</td>\n",
       "      <td>29.68</td>\n",
       "      <td>9.116776</td>\n",
       "      <td>0</td>\n",
       "      <td>0</td>\n",
       "      <td>0</td>\n",
       "      <td>0</td>\n",
       "      <td>...</td>\n",
       "      <td>0</td>\n",
       "      <td>0</td>\n",
       "      <td>0</td>\n",
       "      <td>0</td>\n",
       "      <td>0</td>\n",
       "      <td>0</td>\n",
       "      <td>1</td>\n",
       "      <td>1</td>\n",
       "      <td>1</td>\n",
       "      <td>1</td>\n",
       "    </tr>\n",
       "    <tr>\n",
       "      <th>2</th>\n",
       "      <td>2</td>\n",
       "      <td>0.055</td>\n",
       "      <td>36.0</td>\n",
       "      <td>97.0</td>\n",
       "      <td>29.70</td>\n",
       "      <td>9.116776</td>\n",
       "      <td>0</td>\n",
       "      <td>0</td>\n",
       "      <td>0</td>\n",
       "      <td>0</td>\n",
       "      <td>...</td>\n",
       "      <td>0</td>\n",
       "      <td>0</td>\n",
       "      <td>0</td>\n",
       "      <td>0</td>\n",
       "      <td>0</td>\n",
       "      <td>0</td>\n",
       "      <td>1</td>\n",
       "      <td>1</td>\n",
       "      <td>1</td>\n",
       "      <td>0</td>\n",
       "    </tr>\n",
       "    <tr>\n",
       "      <th>3</th>\n",
       "      <td>2</td>\n",
       "      <td>0.123</td>\n",
       "      <td>39.0</td>\n",
       "      <td>55.0</td>\n",
       "      <td>29.65</td>\n",
       "      <td>9.116776</td>\n",
       "      <td>0</td>\n",
       "      <td>0</td>\n",
       "      <td>0</td>\n",
       "      <td>0</td>\n",
       "      <td>...</td>\n",
       "      <td>0</td>\n",
       "      <td>0</td>\n",
       "      <td>0</td>\n",
       "      <td>0</td>\n",
       "      <td>0</td>\n",
       "      <td>0</td>\n",
       "      <td>1</td>\n",
       "      <td>1</td>\n",
       "      <td>0</td>\n",
       "      <td>0</td>\n",
       "    </tr>\n",
       "    <tr>\n",
       "      <th>4</th>\n",
       "      <td>3</td>\n",
       "      <td>0.500</td>\n",
       "      <td>37.0</td>\n",
       "      <td>93.0</td>\n",
       "      <td>29.69</td>\n",
       "      <td>10.400000</td>\n",
       "      <td>0</td>\n",
       "      <td>0</td>\n",
       "      <td>0</td>\n",
       "      <td>0</td>\n",
       "      <td>...</td>\n",
       "      <td>0</td>\n",
       "      <td>0</td>\n",
       "      <td>0</td>\n",
       "      <td>0</td>\n",
       "      <td>0</td>\n",
       "      <td>0</td>\n",
       "      <td>0</td>\n",
       "      <td>0</td>\n",
       "      <td>0</td>\n",
       "      <td>0</td>\n",
       "    </tr>\n",
       "    <tr>\n",
       "      <th>5</th>\n",
       "      <td>2</td>\n",
       "      <td>1.427</td>\n",
       "      <td>35.6</td>\n",
       "      <td>100.0</td>\n",
       "      <td>29.66</td>\n",
       "      <td>8.100000</td>\n",
       "      <td>0</td>\n",
       "      <td>0</td>\n",
       "      <td>0</td>\n",
       "      <td>0</td>\n",
       "      <td>...</td>\n",
       "      <td>0</td>\n",
       "      <td>0</td>\n",
       "      <td>0</td>\n",
       "      <td>0</td>\n",
       "      <td>0</td>\n",
       "      <td>1</td>\n",
       "      <td>0</td>\n",
       "      <td>0</td>\n",
       "      <td>0</td>\n",
       "      <td>0</td>\n",
       "    </tr>\n",
       "    <tr>\n",
       "      <th>...</th>\n",
       "      <td>...</td>\n",
       "      <td>...</td>\n",
       "      <td>...</td>\n",
       "      <td>...</td>\n",
       "      <td>...</td>\n",
       "      <td>...</td>\n",
       "      <td>...</td>\n",
       "      <td>...</td>\n",
       "      <td>...</td>\n",
       "      <td>...</td>\n",
       "      <td>...</td>\n",
       "      <td>...</td>\n",
       "      <td>...</td>\n",
       "      <td>...</td>\n",
       "      <td>...</td>\n",
       "      <td>...</td>\n",
       "      <td>...</td>\n",
       "      <td>...</td>\n",
       "      <td>...</td>\n",
       "      <td>...</td>\n",
       "      <td>...</td>\n",
       "    </tr>\n",
       "    <tr>\n",
       "      <th>49989</th>\n",
       "      <td>2</td>\n",
       "      <td>0.232</td>\n",
       "      <td>60.8</td>\n",
       "      <td>82.0</td>\n",
       "      <td>30.16</td>\n",
       "      <td>9.116776</td>\n",
       "      <td>0</td>\n",
       "      <td>0</td>\n",
       "      <td>0</td>\n",
       "      <td>0</td>\n",
       "      <td>...</td>\n",
       "      <td>0</td>\n",
       "      <td>0</td>\n",
       "      <td>0</td>\n",
       "      <td>0</td>\n",
       "      <td>0</td>\n",
       "      <td>0</td>\n",
       "      <td>1</td>\n",
       "      <td>1</td>\n",
       "      <td>1</td>\n",
       "      <td>1</td>\n",
       "    </tr>\n",
       "    <tr>\n",
       "      <th>49990</th>\n",
       "      <td>4</td>\n",
       "      <td>1.049</td>\n",
       "      <td>77.0</td>\n",
       "      <td>90.0</td>\n",
       "      <td>30.00</td>\n",
       "      <td>12.700000</td>\n",
       "      <td>0</td>\n",
       "      <td>0</td>\n",
       "      <td>0</td>\n",
       "      <td>0</td>\n",
       "      <td>...</td>\n",
       "      <td>0</td>\n",
       "      <td>0</td>\n",
       "      <td>0</td>\n",
       "      <td>0</td>\n",
       "      <td>0</td>\n",
       "      <td>0</td>\n",
       "      <td>1</td>\n",
       "      <td>1</td>\n",
       "      <td>1</td>\n",
       "      <td>1</td>\n",
       "    </tr>\n",
       "    <tr>\n",
       "      <th>49992</th>\n",
       "      <td>3</td>\n",
       "      <td>0.958</td>\n",
       "      <td>60.1</td>\n",
       "      <td>80.0</td>\n",
       "      <td>30.16</td>\n",
       "      <td>9.116776</td>\n",
       "      <td>0</td>\n",
       "      <td>0</td>\n",
       "      <td>0</td>\n",
       "      <td>0</td>\n",
       "      <td>...</td>\n",
       "      <td>0</td>\n",
       "      <td>0</td>\n",
       "      <td>0</td>\n",
       "      <td>0</td>\n",
       "      <td>0</td>\n",
       "      <td>0</td>\n",
       "      <td>1</td>\n",
       "      <td>1</td>\n",
       "      <td>1</td>\n",
       "      <td>1</td>\n",
       "    </tr>\n",
       "    <tr>\n",
       "      <th>49994</th>\n",
       "      <td>2</td>\n",
       "      <td>0.642</td>\n",
       "      <td>46.4</td>\n",
       "      <td>93.0</td>\n",
       "      <td>30.10</td>\n",
       "      <td>3.500000</td>\n",
       "      <td>0</td>\n",
       "      <td>0</td>\n",
       "      <td>0</td>\n",
       "      <td>0</td>\n",
       "      <td>...</td>\n",
       "      <td>0</td>\n",
       "      <td>0</td>\n",
       "      <td>0</td>\n",
       "      <td>0</td>\n",
       "      <td>0</td>\n",
       "      <td>0</td>\n",
       "      <td>1</td>\n",
       "      <td>1</td>\n",
       "      <td>1</td>\n",
       "      <td>1</td>\n",
       "    </tr>\n",
       "    <tr>\n",
       "      <th>49998</th>\n",
       "      <td>3</td>\n",
       "      <td>0.679</td>\n",
       "      <td>55.0</td>\n",
       "      <td>83.0</td>\n",
       "      <td>30.05</td>\n",
       "      <td>12.700000</td>\n",
       "      <td>0</td>\n",
       "      <td>0</td>\n",
       "      <td>0</td>\n",
       "      <td>0</td>\n",
       "      <td>...</td>\n",
       "      <td>0</td>\n",
       "      <td>0</td>\n",
       "      <td>0</td>\n",
       "      <td>0</td>\n",
       "      <td>0</td>\n",
       "      <td>1</td>\n",
       "      <td>1</td>\n",
       "      <td>0</td>\n",
       "      <td>0</td>\n",
       "      <td>0</td>\n",
       "    </tr>\n",
       "  </tbody>\n",
       "</table>\n",
       "<p>31139 rows × 63 columns</p>\n",
       "</div>"
      ],
      "text/plain": [
       "       Severity  Distance(mi)  Temperature(F)  Humidity(%)  Pressure(in)  \\\n",
       "1             2         0.747            36.9         91.0         29.68   \n",
       "2             2         0.055            36.0         97.0         29.70   \n",
       "3             2         0.123            39.0         55.0         29.65   \n",
       "4             3         0.500            37.0         93.0         29.69   \n",
       "5             2         1.427            35.6        100.0         29.66   \n",
       "...         ...           ...             ...          ...           ...   \n",
       "49989         2         0.232            60.8         82.0         30.16   \n",
       "49990         4         1.049            77.0         90.0         30.00   \n",
       "49992         3         0.958            60.1         80.0         30.16   \n",
       "49994         2         0.642            46.4         93.0         30.10   \n",
       "49998         3         0.679            55.0         83.0         30.05   \n",
       "\n",
       "       Wind_Speed(mph)  Street_I-95 N  Street_I-45 N  Street_I-10 W  \\\n",
       "1             9.116776              0              0              0   \n",
       "2             9.116776              0              0              0   \n",
       "3             9.116776              0              0              0   \n",
       "4            10.400000              0              0              0   \n",
       "5             8.100000              0              0              0   \n",
       "...                ...            ...            ...            ...   \n",
       "49989         9.116776              0              0              0   \n",
       "49990        12.700000              0              0              0   \n",
       "49992         9.116776              0              0              0   \n",
       "49994         3.500000              0              0              0   \n",
       "49998        12.700000              0              0              0   \n",
       "\n",
       "       Street_San Diego Fwy S  ...  No_Exit_True  Railway_True  Station_True  \\\n",
       "1                           0  ...             0             0             0   \n",
       "2                           0  ...             0             0             0   \n",
       "3                           0  ...             0             0             0   \n",
       "4                           0  ...             0             0             0   \n",
       "5                           0  ...             0             0             0   \n",
       "...                       ...  ...           ...           ...           ...   \n",
       "49989                       0  ...             0             0             0   \n",
       "49990                       0  ...             0             0             0   \n",
       "49992                       0  ...             0             0             0   \n",
       "49994                       0  ...             0             0             0   \n",
       "49998                       0  ...             0             0             0   \n",
       "\n",
       "       Stop_True  Traffic_Calming_True  Traffic_Signal_True  \\\n",
       "1              0                     0                    0   \n",
       "2              0                     0                    0   \n",
       "3              0                     0                    0   \n",
       "4              0                     0                    0   \n",
       "5              0                     0                    1   \n",
       "...          ...                   ...                  ...   \n",
       "49989          0                     0                    0   \n",
       "49990          0                     0                    0   \n",
       "49992          0                     0                    0   \n",
       "49994          0                     0                    0   \n",
       "49998          0                     0                    1   \n",
       "\n",
       "       Sunrise_Sunset_Night  Civil_Twilight_Night  Nautical_Twilight_Night  \\\n",
       "1                         1                     1                        1   \n",
       "2                         1                     1                        1   \n",
       "3                         1                     1                        0   \n",
       "4                         0                     0                        0   \n",
       "5                         0                     0                        0   \n",
       "...                     ...                   ...                      ...   \n",
       "49989                     1                     1                        1   \n",
       "49990                     1                     1                        1   \n",
       "49992                     1                     1                        1   \n",
       "49994                     1                     1                        1   \n",
       "49998                     1                     0                        0   \n",
       "\n",
       "       Astronomical_Twilight_Night  \n",
       "1                                1  \n",
       "2                                0  \n",
       "3                                0  \n",
       "4                                0  \n",
       "5                                0  \n",
       "...                            ...  \n",
       "49989                            1  \n",
       "49990                            1  \n",
       "49992                            1  \n",
       "49994                            1  \n",
       "49998                            0  \n",
       "\n",
       "[31139 rows x 63 columns]"
      ]
     },
     "execution_count": 81,
     "metadata": {},
     "output_type": "execute_result"
    }
   ],
   "source": [
    "df_ohe"
   ]
  },
  {
   "cell_type": "code",
   "execution_count": 82,
   "id": "61da8d1a",
   "metadata": {},
   "outputs": [
    {
     "name": "stdout",
     "output_type": "stream",
     "text": [
      "Datatype of each column of df- \n",
      "Severity                         int64\n",
      "Distance(mi)                   float64\n",
      "Temperature(F)                 float64\n",
      "Humidity(%)                    float64\n",
      "Pressure(in)                   float64\n",
      "                                ...   \n",
      "Traffic_Signal_True              uint8\n",
      "Sunrise_Sunset_Night             uint8\n",
      "Civil_Twilight_Night             uint8\n",
      "Nautical_Twilight_Night          uint8\n",
      "Astronomical_Twilight_Night      uint8\n",
      "Length: 63, dtype: object\n"
     ]
    }
   ],
   "source": [
    "datatype_series = df_ohe.dtypes\n",
    "print('Datatype of each column of df- ')\n",
    "print(datatype_series)"
   ]
  },
  {
   "cell_type": "markdown",
   "id": "3e4d9e6f",
   "metadata": {},
   "source": [
    "## Modelling"
   ]
  },
  {
   "cell_type": "markdown",
   "id": "b6b2a96e",
   "metadata": {},
   "source": [
    "### 1. Using Decision Tree"
   ]
  },
  {
   "cell_type": "code",
   "execution_count": 83,
   "id": "8efefbd5",
   "metadata": {},
   "outputs": [],
   "source": [
    "Y_DT = df_ohe['Severity']\n",
    "X_DT = df_ohe.copy()\n",
    "X_DT = X_DT.drop('Severity', axis =1)"
   ]
  },
  {
   "cell_type": "code",
   "execution_count": 84,
   "id": "b5a03fd1",
   "metadata": {},
   "outputs": [
    {
     "name": "stdout",
     "output_type": "stream",
     "text": [
      "Dataset Length:  31139\n",
      "Dataset Shape:  (31139, 62)\n",
      "Dataset:     Distance(mi)  Temperature(F)  Humidity(%)  Pressure(in)  Wind_Speed(mph)  \\\n",
      "1         0.747            36.9         91.0         29.68         9.116776   \n",
      "2         0.055            36.0         97.0         29.70         9.116776   \n",
      "3         0.123            39.0         55.0         29.65         9.116776   \n",
      "4         0.500            37.0         93.0         29.69        10.400000   \n",
      "5         1.427            35.6        100.0         29.66         8.100000   \n",
      "\n",
      "   Street_I-95 N  Street_I-45 N  Street_I-10 W  Street_San Diego Fwy S  \\\n",
      "1              0              0              0                       0   \n",
      "2              0              0              0                       0   \n",
      "3              0              0              0                       0   \n",
      "4              0              0              0                       0   \n",
      "5              0              0              0                       0   \n",
      "\n",
      "   Street_I-94 W  ...  No_Exit_True  Railway_True  Station_True  Stop_True  \\\n",
      "1              0  ...             0             0             0          0   \n",
      "2              0  ...             0             0             0          0   \n",
      "3              0  ...             0             0             0          0   \n",
      "4              0  ...             0             0             0          0   \n",
      "5              0  ...             0             0             0          0   \n",
      "\n",
      "   Traffic_Calming_True  Traffic_Signal_True  Sunrise_Sunset_Night  \\\n",
      "1                     0                    0                     1   \n",
      "2                     0                    0                     1   \n",
      "3                     0                    0                     1   \n",
      "4                     0                    0                     0   \n",
      "5                     0                    1                     0   \n",
      "\n",
      "   Civil_Twilight_Night  Nautical_Twilight_Night  Astronomical_Twilight_Night  \n",
      "1                     1                        1                            1  \n",
      "2                     1                        1                            0  \n",
      "3                     1                        0                            0  \n",
      "4                     0                        0                            0  \n",
      "5                     0                        0                            0  \n",
      "\n",
      "[5 rows x 62 columns]\n"
     ]
    }
   ],
   "source": [
    "# Printing the dataswet shape\n",
    "print (\"Dataset Length: \", len(X_DT))\n",
    "print (\"Dataset Shape: \", X_DT.shape)\n",
    "      \n",
    "# Printing the dataset obseravtions\n",
    "print (\"Dataset: \",X_DT.head())\n",
    "    "
   ]
  },
  {
   "cell_type": "code",
   "execution_count": 85,
   "id": "2356959a",
   "metadata": {},
   "outputs": [
    {
     "name": "stdout",
     "output_type": "stream",
     "text": [
      "Training split input-  (24911, 62)\n",
      "Testing split input-  (6228, 62)\n"
     ]
    }
   ],
   "source": [
    "# Splitting the data - 80:20 ratio\n",
    "X_train, X_test, y_train, y_test = train_test_split(X_DT ,Y_DT , test_size = 0.2, random_state = 42)\n",
    "print(\"Training split input- \", X_train.shape)\n",
    "print(\"Testing split input- \", X_test.shape)"
   ]
  },
  {
   "cell_type": "code",
   "execution_count": 86,
   "id": "93db50a8",
   "metadata": {},
   "outputs": [
    {
     "name": "stdout",
     "output_type": "stream",
     "text": [
      "Decision Tree Classifier Created\n"
     ]
    }
   ],
   "source": [
    "# Defining the decision tree algorithm\n",
    "dtree=DecisionTreeClassifier()\n",
    "dtree.fit(X_train,y_train)\n",
    "print('Decision Tree Classifier Created')"
   ]
  },
  {
   "cell_type": "code",
   "execution_count": 87,
   "id": "591b5379",
   "metadata": {},
   "outputs": [
    {
     "name": "stdout",
     "output_type": "stream",
     "text": [
      "Classification report - \n",
      "               precision    recall  f1-score   support\n",
      "\n",
      "           2       0.79      0.77      0.78      4513\n",
      "           3       0.31      0.32      0.32      1275\n",
      "           4       0.35      0.39      0.37       440\n",
      "\n",
      "    accuracy                           0.65      6228\n",
      "   macro avg       0.48      0.49      0.49      6228\n",
      "weighted avg       0.66      0.65      0.65      6228\n",
      "\n"
     ]
    }
   ],
   "source": [
    "# Predicting the values of test data\n",
    "y_pred = dtree.predict(X_test)\n",
    "print(\"Classification report - \\n\", classification_report(y_test,y_pred))"
   ]
  },
  {
   "cell_type": "code",
   "execution_count": 88,
   "id": "07526ef3",
   "metadata": {},
   "outputs": [
    {
     "data": {
      "text/plain": [
       "Text(0.5, 1.0, 'Accuracy Score: 0.6485228002569043')"
      ]
     },
     "execution_count": 88,
     "metadata": {},
     "output_type": "execute_result"
    },
    {
     "data": {
      "image/png": "[encoded data removed]",
      "text/plain": [
       "<Figure size 576x576 with 2 Axes>"
      ]
     },
     "metadata": {},
     "output_type": "display_data"
    }
   ],
   "source": [
    "cm = confusion_matrix(y_test, y_pred)\n",
    "plt.figure(figsize=(8,8))\n",
    "sns.heatmap(data=cm,linewidths=.5, annot=True,square = True,  cmap = 'Blues')\n",
    "plt.ylabel('Actual label')\n",
    "plt.xlabel('Predicted label')\n",
    "all_sample_title = 'Accuracy Score: {0}'.format(dtree.score(X_test, y_test))\n",
    "plt.title(all_sample_title, size = 15)"
   ]
  },
  {
   "cell_type": "code",
   "execution_count": 89,
   "id": "5dcb2467",
   "metadata": {},
   "outputs": [
    {
     "data": {
      "image/png": "[encoded data removed]",
      "text/plain": [
       "<Figure size 1440x1440 with 1 Axes>"
      ]
     },
     "metadata": {},
     "output_type": "display_data"
    }
   ],
   "source": [
    "# Visualising the graph without the use of graph\n",
    "plt.figure(figsize = (20,20))\n",
    "dec_tree = plot_tree(decision_tree=dtree, feature_names = X_DT.columns, class_names =[\"Severity level 2\", \"Severity level 3\", \"Severity Level 4\"] , filled = True , precision = 4, rounded = True,max_depth=3, fontsize = 10)"
   ]
  },
  {
   "cell_type": "markdown",
   "id": "e3bcab11",
   "metadata": {},
   "source": [
    "Overfitting is one of the key challenges in a tree-based algorithm. If no limit is set, it will give 100% fitting, because, in the worst-case scenario, it will end up making a leaf node for each observation. Hence we need to take some precautions to avoid overfitting. It is mostly done in two ways:\n",
    "\n",
    "1.Setting constraints on tree size (Depth of tree , Minimum number of samples for a node , Maximum number of leafnodes etc )\n",
    "2.Tree pruning"
   ]
  },
  {
   "cell_type": "markdown",
   "id": "753a08f0",
   "metadata": {},
   "source": [
    "### Optimizing the Decision tree by setting constraints"
   ]
  },
  {
   "cell_type": "code",
   "execution_count": 90,
   "id": "844ee55b",
   "metadata": {},
   "outputs": [],
   "source": [
    "def train_using_gini(X_train, X_test, y_train):\n",
    "  \n",
    "    # Creating the classifier object\n",
    "    clf_gini = DecisionTreeClassifier(criterion = \"gini\",\n",
    "            random_state = 100,max_depth=3, min_samples_leaf=5)\n",
    "  \n",
    "    # Performing training\n",
    "    clf_gini.fit(X_train, y_train)\n",
    "    return clf_gini"
   ]
  },
  {
   "cell_type": "code",
   "execution_count": 91,
   "id": "25dd019b",
   "metadata": {},
   "outputs": [],
   "source": [
    "# Function to make predictions\n",
    "def prediction(X_test, clf_object):\n",
    "  \n",
    "    # Predicton on test with giniIndex\n",
    "    y_pred = clf_object.predict(X_test)\n",
    "    print(\"Predicted values:\")\n",
    "    print(y_pred)\n",
    "    return y_pred\n",
    "\n",
    "# Function to calculate accuracy\n",
    "def cal_accuracy(y_test, y_pred):\n",
    "      \n",
    "    print(\"Confusion Matrix: \",\n",
    "        confusion_matrix(y_test, y_pred))\n",
    "      \n",
    "    print (\"Accuracy : \",\n",
    "    accuracy_score(y_test,y_pred)*100)\n",
    "      \n",
    "    print(\"Report : \",\n",
    "    classification_report(y_test, y_pred))"
   ]
  },
  {
   "cell_type": "code",
   "execution_count": 92,
   "id": "ea77ecaa",
   "metadata": {},
   "outputs": [
    {
     "name": "stdout",
     "output_type": "stream",
     "text": [
      "Results Using Gini Index:\n",
      "Predicted values:\n",
      "[2 2 2 ... 2 2 4]\n",
      "Confusion Matrix:  [[4478   12   23]\n",
      " [1230   28   17]\n",
      " [ 381    4   55]]\n",
      "Accuracy :  73.23378291586384\n",
      "Report :                precision    recall  f1-score   support\n",
      "\n",
      "           2       0.74      0.99      0.84      4513\n",
      "           3       0.64      0.02      0.04      1275\n",
      "           4       0.58      0.12      0.21       440\n",
      "\n",
      "    accuracy                           0.73      6228\n",
      "   macro avg       0.65      0.38      0.36      6228\n",
      "weighted avg       0.70      0.73      0.64      6228\n",
      "\n"
     ]
    }
   ],
   "source": [
    "clf_gini = train_using_gini(X_train, X_test, y_train)\n",
    "\n",
    "\n",
    "print(\"Results Using Gini Index:\")\n",
    "      \n",
    "# Prediction using gini\n",
    "y_pred_gini = prediction(X_test, clf_gini)\n",
    "cal_accuracy(y_test, y_pred_gini)\n"
   ]
  },
  {
   "cell_type": "markdown",
   "id": "79f33e1a",
   "metadata": {},
   "source": [
    "Hence we can see that by setting a limit on tree depth of 3 , Accuracy improved from 65.29 to 73.23"
   ]
  },
  {
   "cell_type": "markdown",
   "id": "fadb4bd0",
   "metadata": {},
   "source": [
    "### Predict the Test set results with criterion entropy"
   ]
  },
  {
   "cell_type": "code",
   "execution_count": 93,
   "id": "5356d15a",
   "metadata": {},
   "outputs": [],
   "source": [
    "# Function to perform training with entropy.\n",
    "def tarin_using_entropy(X_train, X_test, y_train):\n",
    "  \n",
    "    # Decision tree with entropy\n",
    "    clf_entropy = DecisionTreeClassifier(\n",
    "            criterion = \"entropy\", random_state = 100,\n",
    "            max_depth = 3, min_samples_leaf = 5)\n",
    "  \n",
    "    # Performing training\n",
    "    clf_entropy.fit(X_train, y_train)\n",
    "    return clf_entropy"
   ]
  },
  {
   "cell_type": "code",
   "execution_count": 94,
   "id": "07ef1762",
   "metadata": {},
   "outputs": [
    {
     "name": "stdout",
     "output_type": "stream",
     "text": [
      "Results Using Entropy:\n",
      "Predicted values:\n",
      "[2 2 2 ... 2 2 2]\n",
      "Confusion Matrix:  [[4458   46    9]\n",
      " [1199   69    7]\n",
      " [ 379   35   26]]\n",
      "Accuracy :  73.1053307642903\n",
      "Report :                precision    recall  f1-score   support\n",
      "\n",
      "           2       0.74      0.99      0.85      4513\n",
      "           3       0.46      0.05      0.10      1275\n",
      "           4       0.62      0.06      0.11       440\n",
      "\n",
      "    accuracy                           0.73      6228\n",
      "   macro avg       0.61      0.37      0.35      6228\n",
      "weighted avg       0.67      0.73      0.64      6228\n",
      "\n"
     ]
    }
   ],
   "source": [
    "clf_entropy = tarin_using_entropy(X_train, X_test, y_train)\n",
    "\n",
    "print(\"Results Using Entropy:\")\n",
    "\n",
    "# Prediction using entropy\n",
    "y_pred_entropy = prediction(X_test, clf_entropy)\n",
    "cal_accuracy(y_test, y_pred_entropy)"
   ]
  },
  {
   "cell_type": "markdown",
   "id": "b3898daa",
   "metadata": {},
   "source": [
    "### 2. Random Forest"
   ]
  },
  {
   "cell_type": "code",
   "execution_count": 100,
   "id": "4e3dfcf5",
   "metadata": {},
   "outputs": [],
   "source": [
    "Y_RF = df_ohe['Severity']\n",
    "X_RF = df_ohe.copy()\n",
    "X_RF = X_RF.drop('Severity', axis =1)"
   ]
  },
  {
   "cell_type": "code",
   "execution_count": 102,
   "id": "4e4870ce",
   "metadata": {},
   "outputs": [
    {
     "name": "stdout",
     "output_type": "stream",
     "text": [
      "Training split input-  (24911, 62)\n",
      "Testing split input-  (6228, 62)\n"
     ]
    }
   ],
   "source": [
    "from sklearn.ensemble import RandomForestClassifier\n",
    "\n",
    "random_forest = RandomForestClassifier(n_estimators=200)\n",
    "\n",
    "# Splitting the data - 80:20 ratio\n",
    "X_train, X_test, Y_train, Y_test = train_test_split(X_DT ,Y_DT , test_size = 0.2, random_state = 42)\n",
    "print(\"Training split input- \", X_train.shape)\n",
    "print(\"Testing split input- \", X_test.shape)"
   ]
  },
  {
   "cell_type": "code",
   "execution_count": 103,
   "id": "81c0044c",
   "metadata": {},
   "outputs": [
    {
     "data": {
      "text/plain": [
       "RandomForestClassifier(n_estimators=200)"
      ]
     },
     "execution_count": 103,
     "metadata": {},
     "output_type": "execute_result"
    }
   ],
   "source": [
    "random_forest.fit(X_train,Y_train)"
   ]
  },
  {
   "cell_type": "code",
   "execution_count": 107,
   "id": "38330f16",
   "metadata": {},
   "outputs": [],
   "source": [
    "Y_predict = random_forest.predict(X_test)\n",
    "\n",
    "RF_score = random_forest.score(X_test,Y_test)\n",
    "rounded_RF_score = round(RF_score * 100, 2)"
   ]
  },
  {
   "cell_type": "code",
   "execution_count": 108,
   "id": "0a10353e",
   "metadata": {},
   "outputs": [
    {
     "name": "stdout",
     "output_type": "stream",
     "text": [
      "Accuracy 75.59\n",
      "              precision    recall  f1-score   support\n",
      "\n",
      "           2   0.771134  0.960115  0.855310      4513\n",
      "           3   0.562353  0.187451  0.281176      1275\n",
      "           4   0.739130  0.309091  0.435897       440\n",
      "\n",
      "    accuracy                       0.755941      6228\n",
      "   macro avg   0.690872  0.485552  0.524128      6228\n",
      "weighted avg   0.726131  0.755941  0.708142      6228\n",
      "\n",
      "done\n"
     ]
    }
   ],
   "source": [
    "sk_report = classification_report(\n",
    "    digits=6,\n",
    "    y_true=Y_test, \n",
    "    y_pred =Y_predict)\n",
    "print(\"Accuracy\" , rounded_RF_score)\n",
    "print(sk_report)\n",
    "pd.crosstab(Y_test, Y_predict, rownames=['Actual'], colnames=['Predicted'], margins=True)\n",
    "\n",
    "print(\"done\")"
   ]
  },
  {
   "cell_type": "code",
   "execution_count": 109,
   "id": "28e2d850",
   "metadata": {},
   "outputs": [
    {
     "data": {
      "text/plain": [
       "{'bootstrap': True,\n",
       " 'ccp_alpha': 0.0,\n",
       " 'class_weight': None,\n",
       " 'criterion': 'gini',\n",
       " 'max_depth': None,\n",
       " 'max_features': 'auto',\n",
       " 'max_leaf_nodes': None,\n",
       " 'max_samples': None,\n",
       " 'min_impurity_decrease': 0.0,\n",
       " 'min_impurity_split': None,\n",
       " 'min_samples_leaf': 1,\n",
       " 'min_samples_split': 2,\n",
       " 'min_weight_fraction_leaf': 0.0,\n",
       " 'n_estimators': 200,\n",
       " 'n_jobs': None,\n",
       " 'oob_score': False,\n",
       " 'random_state': None,\n",
       " 'verbose': 0,\n",
       " 'warm_start': False}"
      ]
     },
     "execution_count": 109,
     "metadata": {},
     "output_type": "execute_result"
    }
   ],
   "source": [
    "random_forest.get_params()"
   ]
  },
  {
   "cell_type": "markdown",
   "id": "8cd4b3aa",
   "metadata": {},
   "source": [
    "### Scaling the data"
   ]
  },
  {
   "cell_type": "code",
   "execution_count": 123,
   "id": "bb1fe825",
   "metadata": {},
   "outputs": [
    {
     "data": {
      "text/html": [
       "<div>\n",
       "<style scoped>\n",
       "    .dataframe tbody tr th:only-of-type {\n",
       "        vertical-align: middle;\n",
       "    }\n",
       "\n",
       "    .dataframe tbody tr th {\n",
       "        vertical-align: top;\n",
       "    }\n",
       "\n",
       "    .dataframe thead th {\n",
       "        text-align: right;\n",
       "    }\n",
       "</style>\n",
       "<table border=\"1\" class=\"dataframe\">\n",
       "  <thead>\n",
       "    <tr style=\"text-align: right;\">\n",
       "      <th></th>\n",
       "      <th>0</th>\n",
       "      <th>1</th>\n",
       "      <th>2</th>\n",
       "      <th>3</th>\n",
       "      <th>4</th>\n",
       "      <th>5</th>\n",
       "      <th>6</th>\n",
       "      <th>7</th>\n",
       "      <th>8</th>\n",
       "      <th>9</th>\n",
       "      <th>...</th>\n",
       "      <th>52</th>\n",
       "      <th>53</th>\n",
       "      <th>54</th>\n",
       "      <th>55</th>\n",
       "      <th>56</th>\n",
       "      <th>57</th>\n",
       "      <th>58</th>\n",
       "      <th>59</th>\n",
       "      <th>60</th>\n",
       "      <th>61</th>\n",
       "    </tr>\n",
       "  </thead>\n",
       "  <tbody>\n",
       "    <tr>\n",
       "      <th>0</th>\n",
       "      <td>0.998034</td>\n",
       "      <td>0.745837</td>\n",
       "      <td>0.333333</td>\n",
       "      <td>0.363636</td>\n",
       "      <td>0.765306</td>\n",
       "      <td>0.0</td>\n",
       "      <td>0.0</td>\n",
       "      <td>0.0</td>\n",
       "      <td>0.0</td>\n",
       "      <td>0.0</td>\n",
       "      <td>...</td>\n",
       "      <td>0.0</td>\n",
       "      <td>0.0</td>\n",
       "      <td>0.0</td>\n",
       "      <td>0.0</td>\n",
       "      <td>0.0</td>\n",
       "      <td>0.0</td>\n",
       "      <td>0.0</td>\n",
       "      <td>0.0</td>\n",
       "      <td>0.0</td>\n",
       "      <td>0.0</td>\n",
       "    </tr>\n",
       "    <tr>\n",
       "      <th>1</th>\n",
       "      <td>0.125164</td>\n",
       "      <td>0.028046</td>\n",
       "      <td>0.822917</td>\n",
       "      <td>0.858586</td>\n",
       "      <td>0.234694</td>\n",
       "      <td>0.0</td>\n",
       "      <td>0.0</td>\n",
       "      <td>0.0</td>\n",
       "      <td>0.0</td>\n",
       "      <td>0.0</td>\n",
       "      <td>...</td>\n",
       "      <td>0.0</td>\n",
       "      <td>0.0</td>\n",
       "      <td>0.0</td>\n",
       "      <td>0.0</td>\n",
       "      <td>0.0</td>\n",
       "      <td>0.0</td>\n",
       "      <td>1.0</td>\n",
       "      <td>1.0</td>\n",
       "      <td>1.0</td>\n",
       "      <td>1.0</td>\n",
       "    </tr>\n",
       "    <tr>\n",
       "      <th>2</th>\n",
       "      <td>0.268676</td>\n",
       "      <td>0.492550</td>\n",
       "      <td>0.572917</td>\n",
       "      <td>0.494949</td>\n",
       "      <td>0.469388</td>\n",
       "      <td>0.0</td>\n",
       "      <td>0.0</td>\n",
       "      <td>0.0</td>\n",
       "      <td>0.0</td>\n",
       "      <td>0.0</td>\n",
       "      <td>...</td>\n",
       "      <td>0.0</td>\n",
       "      <td>0.0</td>\n",
       "      <td>0.0</td>\n",
       "      <td>0.0</td>\n",
       "      <td>0.0</td>\n",
       "      <td>0.0</td>\n",
       "      <td>0.0</td>\n",
       "      <td>0.0</td>\n",
       "      <td>0.0</td>\n",
       "      <td>0.0</td>\n",
       "    </tr>\n",
       "    <tr>\n",
       "      <th>3</th>\n",
       "      <td>0.315858</td>\n",
       "      <td>0.588081</td>\n",
       "      <td>0.718750</td>\n",
       "      <td>0.292929</td>\n",
       "      <td>0.469388</td>\n",
       "      <td>0.0</td>\n",
       "      <td>0.0</td>\n",
       "      <td>0.0</td>\n",
       "      <td>0.0</td>\n",
       "      <td>0.0</td>\n",
       "      <td>...</td>\n",
       "      <td>0.0</td>\n",
       "      <td>0.0</td>\n",
       "      <td>0.0</td>\n",
       "      <td>0.0</td>\n",
       "      <td>0.0</td>\n",
       "      <td>0.0</td>\n",
       "      <td>1.0</td>\n",
       "      <td>0.0</td>\n",
       "      <td>0.0</td>\n",
       "      <td>0.0</td>\n",
       "    </tr>\n",
       "    <tr>\n",
       "      <th>4</th>\n",
       "      <td>0.355832</td>\n",
       "      <td>0.711656</td>\n",
       "      <td>0.333333</td>\n",
       "      <td>0.383838</td>\n",
       "      <td>0.586735</td>\n",
       "      <td>0.0</td>\n",
       "      <td>0.0</td>\n",
       "      <td>0.0</td>\n",
       "      <td>0.0</td>\n",
       "      <td>0.0</td>\n",
       "      <td>...</td>\n",
       "      <td>0.0</td>\n",
       "      <td>0.0</td>\n",
       "      <td>0.0</td>\n",
       "      <td>0.0</td>\n",
       "      <td>0.0</td>\n",
       "      <td>0.0</td>\n",
       "      <td>0.0</td>\n",
       "      <td>0.0</td>\n",
       "      <td>0.0</td>\n",
       "      <td>0.0</td>\n",
       "    </tr>\n",
       "    <tr>\n",
       "      <th>...</th>\n",
       "      <td>...</td>\n",
       "      <td>...</td>\n",
       "      <td>...</td>\n",
       "      <td>...</td>\n",
       "      <td>...</td>\n",
       "      <td>...</td>\n",
       "      <td>...</td>\n",
       "      <td>...</td>\n",
       "      <td>...</td>\n",
       "      <td>...</td>\n",
       "      <td>...</td>\n",
       "      <td>...</td>\n",
       "      <td>...</td>\n",
       "      <td>...</td>\n",
       "      <td>...</td>\n",
       "      <td>...</td>\n",
       "      <td>...</td>\n",
       "      <td>...</td>\n",
       "      <td>...</td>\n",
       "      <td>...</td>\n",
       "      <td>...</td>\n",
       "    </tr>\n",
       "    <tr>\n",
       "      <th>24906</th>\n",
       "      <td>0.062254</td>\n",
       "      <td>0.457493</td>\n",
       "      <td>0.458333</td>\n",
       "      <td>0.616162</td>\n",
       "      <td>0.765306</td>\n",
       "      <td>0.0</td>\n",
       "      <td>0.0</td>\n",
       "      <td>0.0</td>\n",
       "      <td>0.0</td>\n",
       "      <td>0.0</td>\n",
       "      <td>...</td>\n",
       "      <td>0.0</td>\n",
       "      <td>0.0</td>\n",
       "      <td>0.0</td>\n",
       "      <td>0.0</td>\n",
       "      <td>0.0</td>\n",
       "      <td>0.0</td>\n",
       "      <td>0.0</td>\n",
       "      <td>0.0</td>\n",
       "      <td>0.0</td>\n",
       "      <td>0.0</td>\n",
       "    </tr>\n",
       "    <tr>\n",
       "      <th>24907</th>\n",
       "      <td>0.273919</td>\n",
       "      <td>0.546012</td>\n",
       "      <td>0.552083</td>\n",
       "      <td>0.363636</td>\n",
       "      <td>0.234694</td>\n",
       "      <td>0.0</td>\n",
       "      <td>0.0</td>\n",
       "      <td>0.0</td>\n",
       "      <td>0.0</td>\n",
       "      <td>0.0</td>\n",
       "      <td>...</td>\n",
       "      <td>0.0</td>\n",
       "      <td>0.0</td>\n",
       "      <td>0.0</td>\n",
       "      <td>0.0</td>\n",
       "      <td>0.0</td>\n",
       "      <td>0.0</td>\n",
       "      <td>0.0</td>\n",
       "      <td>0.0</td>\n",
       "      <td>0.0</td>\n",
       "      <td>0.0</td>\n",
       "    </tr>\n",
       "    <tr>\n",
       "      <th>24908</th>\n",
       "      <td>0.051114</td>\n",
       "      <td>0.571429</td>\n",
       "      <td>0.406250</td>\n",
       "      <td>0.696970</td>\n",
       "      <td>0.586735</td>\n",
       "      <td>0.0</td>\n",
       "      <td>0.0</td>\n",
       "      <td>0.0</td>\n",
       "      <td>0.0</td>\n",
       "      <td>0.0</td>\n",
       "      <td>...</td>\n",
       "      <td>0.0</td>\n",
       "      <td>0.0</td>\n",
       "      <td>0.0</td>\n",
       "      <td>0.0</td>\n",
       "      <td>0.0</td>\n",
       "      <td>0.0</td>\n",
       "      <td>0.0</td>\n",
       "      <td>0.0</td>\n",
       "      <td>0.0</td>\n",
       "      <td>0.0</td>\n",
       "    </tr>\n",
       "    <tr>\n",
       "      <th>24909</th>\n",
       "      <td>0.754915</td>\n",
       "      <td>0.567923</td>\n",
       "      <td>0.572917</td>\n",
       "      <td>0.535354</td>\n",
       "      <td>0.234694</td>\n",
       "      <td>0.0</td>\n",
       "      <td>0.0</td>\n",
       "      <td>0.0</td>\n",
       "      <td>0.0</td>\n",
       "      <td>0.0</td>\n",
       "      <td>...</td>\n",
       "      <td>0.0</td>\n",
       "      <td>0.0</td>\n",
       "      <td>0.0</td>\n",
       "      <td>0.0</td>\n",
       "      <td>0.0</td>\n",
       "      <td>0.0</td>\n",
       "      <td>1.0</td>\n",
       "      <td>1.0</td>\n",
       "      <td>0.0</td>\n",
       "      <td>0.0</td>\n",
       "    </tr>\n",
       "    <tr>\n",
       "      <th>24910</th>\n",
       "      <td>0.085845</td>\n",
       "      <td>0.238387</td>\n",
       "      <td>0.343750</td>\n",
       "      <td>0.303030</td>\n",
       "      <td>0.586735</td>\n",
       "      <td>0.0</td>\n",
       "      <td>0.0</td>\n",
       "      <td>0.0</td>\n",
       "      <td>0.0</td>\n",
       "      <td>0.0</td>\n",
       "      <td>...</td>\n",
       "      <td>0.0</td>\n",
       "      <td>0.0</td>\n",
       "      <td>0.0</td>\n",
       "      <td>0.0</td>\n",
       "      <td>0.0</td>\n",
       "      <td>1.0</td>\n",
       "      <td>0.0</td>\n",
       "      <td>0.0</td>\n",
       "      <td>0.0</td>\n",
       "      <td>0.0</td>\n",
       "    </tr>\n",
       "  </tbody>\n",
       "</table>\n",
       "<p>24911 rows × 62 columns</p>\n",
       "</div>"
      ],
      "text/plain": [
       "             0         1         2         3         4    5    6    7    8   \\\n",
       "0      0.998034  0.745837  0.333333  0.363636  0.765306  0.0  0.0  0.0  0.0   \n",
       "1      0.125164  0.028046  0.822917  0.858586  0.234694  0.0  0.0  0.0  0.0   \n",
       "2      0.268676  0.492550  0.572917  0.494949  0.469388  0.0  0.0  0.0  0.0   \n",
       "3      0.315858  0.588081  0.718750  0.292929  0.469388  0.0  0.0  0.0  0.0   \n",
       "4      0.355832  0.711656  0.333333  0.383838  0.586735  0.0  0.0  0.0  0.0   \n",
       "...         ...       ...       ...       ...       ...  ...  ...  ...  ...   \n",
       "24906  0.062254  0.457493  0.458333  0.616162  0.765306  0.0  0.0  0.0  0.0   \n",
       "24907  0.273919  0.546012  0.552083  0.363636  0.234694  0.0  0.0  0.0  0.0   \n",
       "24908  0.051114  0.571429  0.406250  0.696970  0.586735  0.0  0.0  0.0  0.0   \n",
       "24909  0.754915  0.567923  0.572917  0.535354  0.234694  0.0  0.0  0.0  0.0   \n",
       "24910  0.085845  0.238387  0.343750  0.303030  0.586735  0.0  0.0  0.0  0.0   \n",
       "\n",
       "        9   ...   52   53   54   55   56   57   58   59   60   61  \n",
       "0      0.0  ...  0.0  0.0  0.0  0.0  0.0  0.0  0.0  0.0  0.0  0.0  \n",
       "1      0.0  ...  0.0  0.0  0.0  0.0  0.0  0.0  1.0  1.0  1.0  1.0  \n",
       "2      0.0  ...  0.0  0.0  0.0  0.0  0.0  0.0  0.0  0.0  0.0  0.0  \n",
       "3      0.0  ...  0.0  0.0  0.0  0.0  0.0  0.0  1.0  0.0  0.0  0.0  \n",
       "4      0.0  ...  0.0  0.0  0.0  0.0  0.0  0.0  0.0  0.0  0.0  0.0  \n",
       "...    ...  ...  ...  ...  ...  ...  ...  ...  ...  ...  ...  ...  \n",
       "24906  0.0  ...  0.0  0.0  0.0  0.0  0.0  0.0  0.0  0.0  0.0  0.0  \n",
       "24907  0.0  ...  0.0  0.0  0.0  0.0  0.0  0.0  0.0  0.0  0.0  0.0  \n",
       "24908  0.0  ...  0.0  0.0  0.0  0.0  0.0  0.0  0.0  0.0  0.0  0.0  \n",
       "24909  0.0  ...  0.0  0.0  0.0  0.0  0.0  0.0  1.0  1.0  0.0  0.0  \n",
       "24910  0.0  ...  0.0  0.0  0.0  0.0  0.0  1.0  0.0  0.0  0.0  0.0  \n",
       "\n",
       "[24911 rows x 62 columns]"
      ]
     },
     "execution_count": 123,
     "metadata": {},
     "output_type": "execute_result"
    }
   ],
   "source": [
    "from sklearn.preprocessing import MinMaxScaler\n",
    "\n",
    "scaler = MinMaxScaler(copy = True)\n",
    "Unscaled_X = scaler.fit_transform(X_train)\n",
    "\n",
    "X_scaled = pd.DataFrame(Unscaled_X)\n",
    "X_scaled"
   ]
  },
  {
   "cell_type": "code",
   "execution_count": 124,
   "id": "9acd5f39",
   "metadata": {},
   "outputs": [
    {
     "data": {
      "text/html": [
       "<div>\n",
       "<style scoped>\n",
       "    .dataframe tbody tr th:only-of-type {\n",
       "        vertical-align: middle;\n",
       "    }\n",
       "\n",
       "    .dataframe tbody tr th {\n",
       "        vertical-align: top;\n",
       "    }\n",
       "\n",
       "    .dataframe thead th {\n",
       "        text-align: right;\n",
       "    }\n",
       "</style>\n",
       "<table border=\"1\" class=\"dataframe\">\n",
       "  <thead>\n",
       "    <tr style=\"text-align: right;\">\n",
       "      <th></th>\n",
       "      <th>0</th>\n",
       "      <th>1</th>\n",
       "      <th>2</th>\n",
       "      <th>3</th>\n",
       "      <th>4</th>\n",
       "      <th>5</th>\n",
       "      <th>6</th>\n",
       "      <th>7</th>\n",
       "      <th>8</th>\n",
       "      <th>9</th>\n",
       "      <th>...</th>\n",
       "      <th>52</th>\n",
       "      <th>53</th>\n",
       "      <th>54</th>\n",
       "      <th>55</th>\n",
       "      <th>56</th>\n",
       "      <th>57</th>\n",
       "      <th>58</th>\n",
       "      <th>59</th>\n",
       "      <th>60</th>\n",
       "      <th>61</th>\n",
       "    </tr>\n",
       "  </thead>\n",
       "  <tbody>\n",
       "    <tr>\n",
       "      <th>0</th>\n",
       "      <td>0.359764</td>\n",
       "      <td>0.686620</td>\n",
       "      <td>0.691489</td>\n",
       "      <td>0.757576</td>\n",
       "      <td>0.704082</td>\n",
       "      <td>0.0</td>\n",
       "      <td>0.0</td>\n",
       "      <td>0.0</td>\n",
       "      <td>0.0</td>\n",
       "      <td>0.0</td>\n",
       "      <td>...</td>\n",
       "      <td>0.0</td>\n",
       "      <td>0.0</td>\n",
       "      <td>0.0</td>\n",
       "      <td>0.0</td>\n",
       "      <td>0.0</td>\n",
       "      <td>0.0</td>\n",
       "      <td>1.0</td>\n",
       "      <td>1.0</td>\n",
       "      <td>1.0</td>\n",
       "      <td>1.0</td>\n",
       "    </tr>\n",
       "    <tr>\n",
       "      <th>1</th>\n",
       "      <td>0.259502</td>\n",
       "      <td>0.624120</td>\n",
       "      <td>0.436170</td>\n",
       "      <td>0.757576</td>\n",
       "      <td>0.352041</td>\n",
       "      <td>0.0</td>\n",
       "      <td>0.0</td>\n",
       "      <td>0.0</td>\n",
       "      <td>0.0</td>\n",
       "      <td>0.0</td>\n",
       "      <td>...</td>\n",
       "      <td>0.0</td>\n",
       "      <td>0.0</td>\n",
       "      <td>0.0</td>\n",
       "      <td>0.0</td>\n",
       "      <td>0.0</td>\n",
       "      <td>0.0</td>\n",
       "      <td>0.0</td>\n",
       "      <td>0.0</td>\n",
       "      <td>0.0</td>\n",
       "      <td>0.0</td>\n",
       "    </tr>\n",
       "    <tr>\n",
       "      <th>2</th>\n",
       "      <td>0.290957</td>\n",
       "      <td>0.326585</td>\n",
       "      <td>0.734043</td>\n",
       "      <td>0.878788</td>\n",
       "      <td>0.413265</td>\n",
       "      <td>0.0</td>\n",
       "      <td>0.0</td>\n",
       "      <td>0.0</td>\n",
       "      <td>0.0</td>\n",
       "      <td>0.0</td>\n",
       "      <td>...</td>\n",
       "      <td>0.0</td>\n",
       "      <td>0.0</td>\n",
       "      <td>0.0</td>\n",
       "      <td>0.0</td>\n",
       "      <td>0.0</td>\n",
       "      <td>0.0</td>\n",
       "      <td>0.0</td>\n",
       "      <td>0.0</td>\n",
       "      <td>0.0</td>\n",
       "      <td>0.0</td>\n",
       "    </tr>\n",
       "    <tr>\n",
       "      <th>3</th>\n",
       "      <td>0.365007</td>\n",
       "      <td>0.825704</td>\n",
       "      <td>0.638298</td>\n",
       "      <td>0.434343</td>\n",
       "      <td>0.295918</td>\n",
       "      <td>0.0</td>\n",
       "      <td>1.0</td>\n",
       "      <td>0.0</td>\n",
       "      <td>0.0</td>\n",
       "      <td>0.0</td>\n",
       "      <td>...</td>\n",
       "      <td>0.0</td>\n",
       "      <td>0.0</td>\n",
       "      <td>0.0</td>\n",
       "      <td>0.0</td>\n",
       "      <td>0.0</td>\n",
       "      <td>0.0</td>\n",
       "      <td>0.0</td>\n",
       "      <td>0.0</td>\n",
       "      <td>0.0</td>\n",
       "      <td>0.0</td>\n",
       "    </tr>\n",
       "    <tr>\n",
       "      <th>4</th>\n",
       "      <td>0.522936</td>\n",
       "      <td>0.245599</td>\n",
       "      <td>0.234043</td>\n",
       "      <td>0.575758</td>\n",
       "      <td>0.938776</td>\n",
       "      <td>0.0</td>\n",
       "      <td>0.0</td>\n",
       "      <td>0.0</td>\n",
       "      <td>0.0</td>\n",
       "      <td>0.0</td>\n",
       "      <td>...</td>\n",
       "      <td>0.0</td>\n",
       "      <td>0.0</td>\n",
       "      <td>0.0</td>\n",
       "      <td>0.0</td>\n",
       "      <td>0.0</td>\n",
       "      <td>0.0</td>\n",
       "      <td>0.0</td>\n",
       "      <td>0.0</td>\n",
       "      <td>0.0</td>\n",
       "      <td>0.0</td>\n",
       "    </tr>\n",
       "    <tr>\n",
       "      <th>...</th>\n",
       "      <td>...</td>\n",
       "      <td>...</td>\n",
       "      <td>...</td>\n",
       "      <td>...</td>\n",
       "      <td>...</td>\n",
       "      <td>...</td>\n",
       "      <td>...</td>\n",
       "      <td>...</td>\n",
       "      <td>...</td>\n",
       "      <td>...</td>\n",
       "      <td>...</td>\n",
       "      <td>...</td>\n",
       "      <td>...</td>\n",
       "      <td>...</td>\n",
       "      <td>...</td>\n",
       "      <td>...</td>\n",
       "      <td>...</td>\n",
       "      <td>...</td>\n",
       "      <td>...</td>\n",
       "      <td>...</td>\n",
       "      <td>...</td>\n",
       "    </tr>\n",
       "    <tr>\n",
       "      <th>6223</th>\n",
       "      <td>0.200524</td>\n",
       "      <td>0.124120</td>\n",
       "      <td>0.585106</td>\n",
       "      <td>0.616162</td>\n",
       "      <td>0.530612</td>\n",
       "      <td>0.0</td>\n",
       "      <td>0.0</td>\n",
       "      <td>0.0</td>\n",
       "      <td>0.0</td>\n",
       "      <td>0.0</td>\n",
       "      <td>...</td>\n",
       "      <td>0.0</td>\n",
       "      <td>0.0</td>\n",
       "      <td>0.0</td>\n",
       "      <td>0.0</td>\n",
       "      <td>0.0</td>\n",
       "      <td>0.0</td>\n",
       "      <td>0.0</td>\n",
       "      <td>0.0</td>\n",
       "      <td>0.0</td>\n",
       "      <td>0.0</td>\n",
       "    </tr>\n",
       "    <tr>\n",
       "      <th>6224</th>\n",
       "      <td>0.256225</td>\n",
       "      <td>0.746479</td>\n",
       "      <td>0.351064</td>\n",
       "      <td>0.444444</td>\n",
       "      <td>0.469388</td>\n",
       "      <td>0.0</td>\n",
       "      <td>0.0</td>\n",
       "      <td>0.0</td>\n",
       "      <td>0.0</td>\n",
       "      <td>0.0</td>\n",
       "      <td>...</td>\n",
       "      <td>0.0</td>\n",
       "      <td>0.0</td>\n",
       "      <td>0.0</td>\n",
       "      <td>0.0</td>\n",
       "      <td>0.0</td>\n",
       "      <td>0.0</td>\n",
       "      <td>0.0</td>\n",
       "      <td>0.0</td>\n",
       "      <td>0.0</td>\n",
       "      <td>0.0</td>\n",
       "    </tr>\n",
       "    <tr>\n",
       "      <th>6225</th>\n",
       "      <td>0.214286</td>\n",
       "      <td>0.465669</td>\n",
       "      <td>0.691489</td>\n",
       "      <td>0.868687</td>\n",
       "      <td>0.413265</td>\n",
       "      <td>0.0</td>\n",
       "      <td>0.0</td>\n",
       "      <td>0.0</td>\n",
       "      <td>0.0</td>\n",
       "      <td>0.0</td>\n",
       "      <td>...</td>\n",
       "      <td>0.0</td>\n",
       "      <td>0.0</td>\n",
       "      <td>0.0</td>\n",
       "      <td>0.0</td>\n",
       "      <td>0.0</td>\n",
       "      <td>0.0</td>\n",
       "      <td>0.0</td>\n",
       "      <td>0.0</td>\n",
       "      <td>0.0</td>\n",
       "      <td>0.0</td>\n",
       "    </tr>\n",
       "    <tr>\n",
       "      <th>6226</th>\n",
       "      <td>0.854522</td>\n",
       "      <td>0.255282</td>\n",
       "      <td>0.574468</td>\n",
       "      <td>0.545455</td>\n",
       "      <td>0.882653</td>\n",
       "      <td>0.0</td>\n",
       "      <td>0.0</td>\n",
       "      <td>0.0</td>\n",
       "      <td>0.0</td>\n",
       "      <td>0.0</td>\n",
       "      <td>...</td>\n",
       "      <td>0.0</td>\n",
       "      <td>0.0</td>\n",
       "      <td>0.0</td>\n",
       "      <td>0.0</td>\n",
       "      <td>0.0</td>\n",
       "      <td>0.0</td>\n",
       "      <td>0.0</td>\n",
       "      <td>0.0</td>\n",
       "      <td>0.0</td>\n",
       "      <td>0.0</td>\n",
       "    </tr>\n",
       "    <tr>\n",
       "      <th>6227</th>\n",
       "      <td>0.974443</td>\n",
       "      <td>0.282570</td>\n",
       "      <td>0.436170</td>\n",
       "      <td>0.303030</td>\n",
       "      <td>0.821429</td>\n",
       "      <td>0.0</td>\n",
       "      <td>0.0</td>\n",
       "      <td>0.0</td>\n",
       "      <td>0.0</td>\n",
       "      <td>0.0</td>\n",
       "      <td>...</td>\n",
       "      <td>0.0</td>\n",
       "      <td>0.0</td>\n",
       "      <td>0.0</td>\n",
       "      <td>0.0</td>\n",
       "      <td>0.0</td>\n",
       "      <td>0.0</td>\n",
       "      <td>1.0</td>\n",
       "      <td>1.0</td>\n",
       "      <td>1.0</td>\n",
       "      <td>0.0</td>\n",
       "    </tr>\n",
       "  </tbody>\n",
       "</table>\n",
       "<p>6228 rows × 62 columns</p>\n",
       "</div>"
      ],
      "text/plain": [
       "            0         1         2         3         4    5    6    7    8   \\\n",
       "0     0.359764  0.686620  0.691489  0.757576  0.704082  0.0  0.0  0.0  0.0   \n",
       "1     0.259502  0.624120  0.436170  0.757576  0.352041  0.0  0.0  0.0  0.0   \n",
       "2     0.290957  0.326585  0.734043  0.878788  0.413265  0.0  0.0  0.0  0.0   \n",
       "3     0.365007  0.825704  0.638298  0.434343  0.295918  0.0  1.0  0.0  0.0   \n",
       "4     0.522936  0.245599  0.234043  0.575758  0.938776  0.0  0.0  0.0  0.0   \n",
       "...        ...       ...       ...       ...       ...  ...  ...  ...  ...   \n",
       "6223  0.200524  0.124120  0.585106  0.616162  0.530612  0.0  0.0  0.0  0.0   \n",
       "6224  0.256225  0.746479  0.351064  0.444444  0.469388  0.0  0.0  0.0  0.0   \n",
       "6225  0.214286  0.465669  0.691489  0.868687  0.413265  0.0  0.0  0.0  0.0   \n",
       "6226  0.854522  0.255282  0.574468  0.545455  0.882653  0.0  0.0  0.0  0.0   \n",
       "6227  0.974443  0.282570  0.436170  0.303030  0.821429  0.0  0.0  0.0  0.0   \n",
       "\n",
       "       9   ...   52   53   54   55   56   57   58   59   60   61  \n",
       "0     0.0  ...  0.0  0.0  0.0  0.0  0.0  0.0  1.0  1.0  1.0  1.0  \n",
       "1     0.0  ...  0.0  0.0  0.0  0.0  0.0  0.0  0.0  0.0  0.0  0.0  \n",
       "2     0.0  ...  0.0  0.0  0.0  0.0  0.0  0.0  0.0  0.0  0.0  0.0  \n",
       "3     0.0  ...  0.0  0.0  0.0  0.0  0.0  0.0  0.0  0.0  0.0  0.0  \n",
       "4     0.0  ...  0.0  0.0  0.0  0.0  0.0  0.0  0.0  0.0  0.0  0.0  \n",
       "...   ...  ...  ...  ...  ...  ...  ...  ...  ...  ...  ...  ...  \n",
       "6223  0.0  ...  0.0  0.0  0.0  0.0  0.0  0.0  0.0  0.0  0.0  0.0  \n",
       "6224  0.0  ...  0.0  0.0  0.0  0.0  0.0  0.0  0.0  0.0  0.0  0.0  \n",
       "6225  0.0  ...  0.0  0.0  0.0  0.0  0.0  0.0  0.0  0.0  0.0  0.0  \n",
       "6226  0.0  ...  0.0  0.0  0.0  0.0  0.0  0.0  0.0  0.0  0.0  0.0  \n",
       "6227  0.0  ...  0.0  0.0  0.0  0.0  0.0  0.0  1.0  1.0  1.0  0.0  \n",
       "\n",
       "[6228 rows x 62 columns]"
      ]
     },
     "execution_count": 124,
     "metadata": {},
     "output_type": "execute_result"
    }
   ],
   "source": [
    "from sklearn.preprocessing import MinMaxScaler\n",
    "\n",
    "scaler = MinMaxScaler(copy = True)\n",
    "Unscaled_X_test = scaler.fit_transform(X_test)\n",
    "\n",
    "X_test_scaled = pd.DataFrame(Unscaled_X_test)\n",
    "X_test_scaled"
   ]
  },
  {
   "cell_type": "markdown",
   "id": "73584a8e",
   "metadata": {},
   "source": [
    "### 3. Logistic Regression"
   ]
  },
  {
   "cell_type": "code",
   "execution_count": 125,
   "id": "69f9b112",
   "metadata": {},
   "outputs": [
    {
     "name": "stdout",
     "output_type": "stream",
     "text": [
      "Accuracy 73.43\n",
      "              precision    recall  f1-score   support\n",
      "\n",
      "           2   0.745393  0.976955  0.845608      4513\n",
      "           3   0.530516  0.088627  0.151882      1275\n",
      "           4   0.510000  0.115909  0.188889       440\n",
      "\n",
      "    accuracy                       0.734265      6228\n",
      "   macro avg   0.595303  0.393831  0.395460      6228\n",
      "weighted avg   0.684773  0.734265  0.657192      6228\n",
      "\n"
     ]
    },
    {
     "name": "stderr",
     "output_type": "stream",
     "text": [
      "C:\\Users\\Uddeshya Sahu\\Anaconda3\\lib\\site-packages\\sklearn\\linear_model\\_logistic.py:763: ConvergenceWarning: lbfgs failed to converge (status=1):\n",
      "STOP: TOTAL NO. of ITERATIONS REACHED LIMIT.\n",
      "\n",
      "Increase the number of iterations (max_iter) or scale the data as shown in:\n",
      "    https://scikit-learn.org/stable/modules/preprocessing.html\n",
      "Please also refer to the documentation for alternative solver options:\n",
      "    https://scikit-learn.org/stable/modules/linear_model.html#logistic-regression\n",
      "  n_iter_i = _check_optimize_result(\n"
     ]
    },
    {
     "data": {
      "text/html": [
       "<div>\n",
       "<style scoped>\n",
       "    .dataframe tbody tr th:only-of-type {\n",
       "        vertical-align: middle;\n",
       "    }\n",
       "\n",
       "    .dataframe tbody tr th {\n",
       "        vertical-align: top;\n",
       "    }\n",
       "\n",
       "    .dataframe thead th {\n",
       "        text-align: right;\n",
       "    }\n",
       "</style>\n",
       "<table border=\"1\" class=\"dataframe\">\n",
       "  <thead>\n",
       "    <tr style=\"text-align: right;\">\n",
       "      <th>Predicted</th>\n",
       "      <th>2</th>\n",
       "      <th>3</th>\n",
       "      <th>4</th>\n",
       "      <th>All</th>\n",
       "    </tr>\n",
       "    <tr>\n",
       "      <th>Actual</th>\n",
       "      <th></th>\n",
       "      <th></th>\n",
       "      <th></th>\n",
       "      <th></th>\n",
       "    </tr>\n",
       "  </thead>\n",
       "  <tbody>\n",
       "    <tr>\n",
       "      <th>2</th>\n",
       "      <td>4409</td>\n",
       "      <td>79</td>\n",
       "      <td>25</td>\n",
       "      <td>4513</td>\n",
       "    </tr>\n",
       "    <tr>\n",
       "      <th>3</th>\n",
       "      <td>1138</td>\n",
       "      <td>113</td>\n",
       "      <td>24</td>\n",
       "      <td>1275</td>\n",
       "    </tr>\n",
       "    <tr>\n",
       "      <th>4</th>\n",
       "      <td>368</td>\n",
       "      <td>21</td>\n",
       "      <td>51</td>\n",
       "      <td>440</td>\n",
       "    </tr>\n",
       "    <tr>\n",
       "      <th>All</th>\n",
       "      <td>5915</td>\n",
       "      <td>213</td>\n",
       "      <td>100</td>\n",
       "      <td>6228</td>\n",
       "    </tr>\n",
       "  </tbody>\n",
       "</table>\n",
       "</div>"
      ],
      "text/plain": [
       "Predicted     2    3    4   All\n",
       "Actual                         \n",
       "2          4409   79   25  4513\n",
       "3          1138  113   24  1275\n",
       "4           368   21   51   440\n",
       "All        5915  213  100  6228"
      ]
     },
     "execution_count": 125,
     "metadata": {},
     "output_type": "execute_result"
    }
   ],
   "source": [
    "lr = LogisticRegression()\n",
    "# Fit the model on the trainng data.\n",
    "lr.fit(X_scaled, Y_train)\n",
    "Y_pred = lr.predict(X_test_scaled)\n",
    "sk_report = classification_report(\n",
    "    digits=6,\n",
    "    y_true=Y_test, \n",
    "    y_pred=Y_pred)\n",
    "print(\"Accuracy\", round(accuracy_score(Y_pred, Y_test)*100,2))\n",
    "print(sk_report)\n",
    "pd.crosstab(Y_test, Y_pred, rownames=['Actual'], colnames=['Predicted'], margins=True)"
   ]
  },
  {
   "cell_type": "markdown",
   "id": "daeed96c",
   "metadata": {},
   "source": [
    "### 4. SVM"
   ]
  },
  {
   "cell_type": "code",
   "execution_count": 126,
   "id": "b4329049",
   "metadata": {},
   "outputs": [],
   "source": [
    "from sklearn.svm import SVC"
   ]
  },
  {
   "cell_type": "code",
   "execution_count": 127,
   "id": "d3b031cf",
   "metadata": {},
   "outputs": [],
   "source": [
    "svc_model = SVC(C= 12, gamma=10, kernel= 'rbf')"
   ]
  },
  {
   "cell_type": "code",
   "execution_count": 129,
   "id": "5d77e10a",
   "metadata": {},
   "outputs": [
    {
     "data": {
      "text/plain": [
       "SVC(C=12, gamma=10)"
      ]
     },
     "execution_count": 129,
     "metadata": {},
     "output_type": "execute_result"
    }
   ],
   "source": [
    "svc_model.fit(X_scaled, Y_train)"
   ]
  },
  {
   "cell_type": "code",
   "execution_count": 130,
   "id": "d57a2966",
   "metadata": {},
   "outputs": [
    {
     "data": {
      "text/plain": [
       "0.6981374438021837"
      ]
     },
     "execution_count": 130,
     "metadata": {},
     "output_type": "execute_result"
    }
   ],
   "source": [
    "svc_model.score(X_test_scaled, Y_test)"
   ]
  },
  {
   "cell_type": "markdown",
   "id": "f3e093ce",
   "metadata": {},
   "source": [
    "#### Hyperparamenter Tuning for SVM"
   ]
  },
  {
   "cell_type": "code",
   "execution_count": 131,
   "id": "c5b1684e",
   "metadata": {},
   "outputs": [],
   "source": [
    "from sklearn.model_selection import GridSearchCV"
   ]
  },
  {
   "cell_type": "code",
   "execution_count": 134,
   "id": "800d1347",
   "metadata": {},
   "outputs": [
    {
     "name": "stdout",
     "output_type": "stream",
     "text": [
      "Fitting 5 folds for each of 4 candidates, totalling 20 fits\n",
      "[CV 1/5] END .......................C=1, gamma=1, kernel=rbf; total time= 1.0min\n",
      "[CV 2/5] END .......................C=1, gamma=1, kernel=rbf; total time= 1.1min\n",
      "[CV 3/5] END .......................C=1, gamma=1, kernel=rbf; total time= 1.1min\n",
      "[CV 4/5] END .......................C=1, gamma=1, kernel=rbf; total time= 1.0min\n",
      "[CV 5/5] END .......................C=1, gamma=1, kernel=rbf; total time=  55.7s\n",
      "[CV 1/5] END .....................C=1, gamma=0.1, kernel=rbf; total time=  34.6s\n",
      "[CV 2/5] END .....................C=1, gamma=0.1, kernel=rbf; total time=  34.7s\n",
      "[CV 3/5] END .....................C=1, gamma=0.1, kernel=rbf; total time=  34.1s\n",
      "[CV 4/5] END .....................C=1, gamma=0.1, kernel=rbf; total time=  34.1s\n",
      "[CV 5/5] END .....................C=1, gamma=0.1, kernel=rbf; total time=  33.7s\n",
      "[CV 1/5] END ......................C=20, gamma=1, kernel=rbf; total time= 2.1min\n",
      "[CV 2/5] END ......................C=20, gamma=1, kernel=rbf; total time= 1.9min\n",
      "[CV 3/5] END ......................C=20, gamma=1, kernel=rbf; total time= 2.2min\n",
      "[CV 4/5] END ......................C=20, gamma=1, kernel=rbf; total time= 1.9min\n",
      "[CV 5/5] END ......................C=20, gamma=1, kernel=rbf; total time= 1.8min\n",
      "[CV 1/5] END ....................C=20, gamma=0.1, kernel=rbf; total time= 1.2min\n",
      "[CV 2/5] END ....................C=20, gamma=0.1, kernel=rbf; total time= 1.3min\n",
      "[CV 3/5] END ....................C=20, gamma=0.1, kernel=rbf; total time= 1.2min\n",
      "[CV 4/5] END ....................C=20, gamma=0.1, kernel=rbf; total time= 1.2min\n",
      "[CV 5/5] END ....................C=20, gamma=0.1, kernel=rbf; total time= 1.2min\n"
     ]
    },
    {
     "data": {
      "text/plain": [
       "GridSearchCV(estimator=SVC(),\n",
       "             param_grid={'C': [1, 20], 'gamma': [1, 0.1], 'kernel': ['rbf']},\n",
       "             verbose=3)"
      ]
     },
     "execution_count": 134,
     "metadata": {},
     "output_type": "execute_result"
    }
   ],
   "source": [
    "param_grid = {'C': [1, 20],\n",
    "              'gamma': [1, 0.1],\n",
    "              'kernel': ['rbf']}\n",
    "\n",
    "grid = GridSearchCV(SVC(), param_grid, refit = True, verbose = 3)\n",
    " \n",
    "# fitting the model for grid search\n",
    "grid.fit(X_scaled, Y_train)"
   ]
  },
  {
   "cell_type": "code",
   "execution_count": 135,
   "id": "34162542",
   "metadata": {},
   "outputs": [
    {
     "name": "stdout",
     "output_type": "stream",
     "text": [
      "{'C': 20, 'gamma': 0.1, 'kernel': 'rbf'}\n",
      "SVC(C=20, gamma=0.1)\n"
     ]
    }
   ],
   "source": [
    "# print best parameter after tuning\n",
    "print(grid.best_params_)\n",
    "\n",
    "# print how our model looks after hyper-parameter tuning\n",
    "print(grid.best_estimator_)"
   ]
  },
  {
   "cell_type": "code",
   "execution_count": 136,
   "id": "d592265a",
   "metadata": {},
   "outputs": [
    {
     "name": "stdout",
     "output_type": "stream",
     "text": [
      "              precision    recall  f1-score   support\n",
      "\n",
      "           2       0.74      0.98      0.84      4513\n",
      "           3       0.51      0.07      0.12      1275\n",
      "           4       0.59      0.13      0.22       440\n",
      "\n",
      "    accuracy                           0.73      6228\n",
      "   macro avg       0.61      0.39      0.39      6228\n",
      "weighted avg       0.68      0.73      0.65      6228\n",
      "\n"
     ]
    }
   ],
   "source": [
    "grid_predictions = grid.predict(X_test_scaled)\n",
    "\n",
    "# print classification report\n",
    "print(classification_report(Y_test, grid_predictions))"
   ]
  },
  {
   "cell_type": "markdown",
   "id": "1216aaf5",
   "metadata": {},
   "source": [
    "- After comparing accuracy of all the classifiers, we find that all the classifier have almost same accuracy but Random Forest has the highest accuracy of 75.59% \n"
   ]
  },
  {
   "cell_type": "code",
   "execution_count": null,
   "id": "f88eb4dc",
   "metadata": {},
   "outputs": [],
   "source": []
  }
 ],
 "metadata": {
  "kernelspec": {
   "display_name": "Python 3",
   "language": "python",
   "name": "python3"
  },
  "language_info": {
   "codemirror_mode": {
    "name": "ipython",
    "version": 3
   },
   "file_extension": ".py",
   "mimetype": "text/x-python",
   "name": "python",
   "nbconvert_exporter": "python",
   "pygments_lexer": "ipython3",
   "version": "3.8.8"
  }
 },
 "nbformat": 4,
 "nbformat_minor": 5
}
